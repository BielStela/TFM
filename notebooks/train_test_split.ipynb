{
 "cells": [
  {
   "cell_type": "code",
   "execution_count": 2,
   "id": "ba882fcc-1389-41c2-bc02-fe889535879c",
   "metadata": {},
   "outputs": [],
   "source": [
    "import os\n",
    "import shutil\n",
    "\n",
    "import numpy as np\n",
    "from pathlib import Path\n",
    "from sklearn.model_selection import train_test_split\n",
    "\n",
    "%config Completer.use_jedi = False"
   ]
  },
  {
   "cell_type": "code",
   "execution_count": 9,
   "id": "2880e3ae-3dc0-4016-8cba-8e3dc6c1d0db",
   "metadata": {},
   "outputs": [],
   "source": [
    "images_w_pool = list(im.name for im in Path(\"PyTorch-YOLOv3/data/custom/images/\").glob(\"*.tif\"))\n",
    "w_pool_fname = [\"data/custom/images/\" + im for im in images_w_pool]"
   ]
  },
  {
   "cell_type": "code",
   "execution_count": 10,
   "id": "66898566-15a0-40d8-9839-b6a08b3f7ad3",
   "metadata": {},
   "outputs": [],
   "source": [
    "train, val = train_test_split(w_pool_fname, test_size=0.3, random_state=42)"
   ]
  },
  {
   "cell_type": "code",
   "execution_count": 11,
   "id": "b2e564e4-7d39-42e2-8e78-07b03a3ed486",
   "metadata": {},
   "outputs": [],
   "source": [
    "# write train.txt\n",
    "with open(\"PyTorch-YOLOv3/data/custom/train.txt\", \"w\") as f:\n",
    "    f.write(\"\\n\".join(train))\n",
    "\n",
    "# write train.txt\n",
    "with open(\"PyTorch-YOLOv3/data/custom/valid.txt\", \"w\") as f:\n",
    "    f.write(\"\\n\".join(val))"
   ]
  },
  {
   "cell_type": "code",
   "execution_count": null,
   "id": "6b69e702-f402-4284-9f4d-609356795235",
   "metadata": {},
   "outputs": [],
   "source": []
  },
  {
   "cell_type": "markdown",
   "id": "8a5348ad-0a8b-4afa-b1e0-fb292355d4a7",
   "metadata": {},
   "source": [
    "## Add empty (witout pool) images to dataset"
   ]
  },
  {
   "cell_type": "code",
   "execution_count": 74,
   "id": "6fc66770-722b-494b-87cf-ab3a8a630f4b",
   "metadata": {},
   "outputs": [],
   "source": [
    "images_w_pool = set(im.name for im in Path(\"PyTorch-YOLOv3/data/custom/images/\").glob(\"*.tif\"))"
   ]
  },
  {
   "cell_type": "code",
   "execution_count": 75,
   "id": "096ec973-2132-47e2-866a-ab29cee4526a",
   "metadata": {},
   "outputs": [],
   "source": [
    "imgs_no_pool = set(t.name for t in Path(\"0724_tiles/\").glob(\"*.tif\")) - set(filenames)"
   ]
  },
  {
   "cell_type": "code",
   "execution_count": 76,
   "id": "852ff4f4-d712-4cb6-b0dc-5ee2caa29904",
   "metadata": {},
   "outputs": [
    {
     "data": {
      "text/plain": [
       "3561"
      ]
     },
     "execution_count": 76,
     "metadata": {},
     "output_type": "execute_result"
    }
   ],
   "source": [
    "len(images_w_pool)"
   ]
  },
  {
   "cell_type": "code",
   "execution_count": 77,
   "id": "025a817e-f762-4f33-b3bd-113060ae544a",
   "metadata": {
    "tags": []
   },
   "outputs": [],
   "source": [
    "imgs_no_pool_to_add = list(imgs_no_pool)[:len(images_w_pool)]"
   ]
  },
  {
   "cell_type": "code",
   "execution_count": 79,
   "id": "91070b3e-8b9a-45d9-b33c-bd0146451691",
   "metadata": {},
   "outputs": [],
   "source": [
    "w_pool_fname = [\"data/custom/images/\" + im for im in images_w_pool]\n",
    "no_pool_fname = [\"data/custom/images/\" + im for im in imgs_no_pool_to_add]"
   ]
  },
  {
   "cell_type": "code",
   "execution_count": 87,
   "id": "867c070e-42c3-47ef-b88f-344e63037989",
   "metadata": {},
   "outputs": [],
   "source": [
    "# write empty label files for images with no pools\n",
    "for im in imgs_no_pool_to_add:\n",
    "    shutil.copy(f\"0724_tiles/{im}\", f\"PyTorch-YOLOv3/data/custom/images/{im}\")\n",
    "    f_name = im.split(\".tif\")[0] + \".txt\"\n",
    "    with open(f\"PyTorch-YOLOv3/data/custom/labels/{f_name}\", \"w\") as f:\n",
    "        f.write(\"\")"
   ]
  },
  {
   "cell_type": "code",
   "execution_count": 88,
   "id": "92e45f7f-820f-43a0-936b-be85e9bfc40c",
   "metadata": {},
   "outputs": [
    {
     "data": {
      "text/plain": [
       "'PNOA_MA_OF_ETRS89_HU31_h50_0724_test_511207_4357933.tif'"
      ]
     },
     "execution_count": 88,
     "metadata": {},
     "output_type": "execute_result"
    }
   ],
   "source": [
    "imgs_no_pool_to_add[234]"
   ]
  },
  {
   "cell_type": "code",
   "execution_count": 82,
   "id": "94e78967-4aeb-48c8-bc17-f091c2aa60ac",
   "metadata": {},
   "outputs": [],
   "source": [
    "all_imgs = w_pool_fname + no_pool_fname"
   ]
  },
  {
   "cell_type": "code",
   "execution_count": 83,
   "id": "4824f865-3555-4fa5-b4a8-a79b52bdac8b",
   "metadata": {},
   "outputs": [],
   "source": [
    "train, val = train_test_split(all_imgs, test_size=0.3, random_state=42)"
   ]
  },
  {
   "cell_type": "code",
   "execution_count": 84,
   "id": "d50c3ac5-9825-4c49-8e97-39390a1325ea",
   "metadata": {},
   "outputs": [
    {
     "data": {
      "text/plain": [
       "4985"
      ]
     },
     "execution_count": 84,
     "metadata": {},
     "output_type": "execute_result"
    }
   ],
   "source": [
    "len(train)"
   ]
  },
  {
   "cell_type": "code",
   "execution_count": 85,
   "id": "908a52e0-e27f-4d12-82e8-62c4522138b2",
   "metadata": {},
   "outputs": [
    {
     "data": {
      "text/plain": [
       "2137"
      ]
     },
     "execution_count": 85,
     "metadata": {},
     "output_type": "execute_result"
    }
   ],
   "source": [
    "len(val)"
   ]
  },
  {
   "cell_type": "code",
   "execution_count": 86,
   "id": "9cd9cb8c-652a-4b3a-ac5b-cb2823317bb8",
   "metadata": {},
   "outputs": [],
   "source": [
    "# write train.txt\n",
    "with open(\"PyTorch-YOLOv3/data/custom/train.txt\", \"w\") as f:\n",
    "    f.write(\"\\n\".join(train))\n",
    "\n",
    "# write train.txt\n",
    "with open(\"PyTorch-YOLOv3/data/custom/valid.txt\", \"w\") as f:\n",
    "    f.write(\"\\n\".join(val))"
   ]
  },
  {
   "cell_type": "code",
   "execution_count": null,
   "id": "4892bb55-fe4e-461e-993a-a3b2d05cebc0",
   "metadata": {},
   "outputs": [],
   "source": []
  }
 ],
 "metadata": {
  "kernelspec": {
   "display_name": "Python 3",
   "language": "python",
   "name": "python3"
  },
  "language_info": {
   "codemirror_mode": {
    "name": "ipython",
    "version": 3
   },
   "file_extension": ".py",
   "mimetype": "text/x-python",
   "name": "python",
   "nbconvert_exporter": "python",
   "pygments_lexer": "ipython3",
   "version": "3.9.5"
  }
 },
 "nbformat": 4,
 "nbformat_minor": 5
}
