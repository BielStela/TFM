{
 "cells": [
  {
   "cell_type": "code",
   "execution_count": 1,
   "id": "7dd7a471-cc79-4265-8bbe-584aa87ad2d2",
   "metadata": {},
   "outputs": [],
   "source": [
    "import geopandas as gpd\n",
    "import pandas as pd"
   ]
  },
  {
   "cell_type": "code",
   "execution_count": 5,
   "id": "3a58fe79-cc25-491c-9076-23665ef57f9a",
   "metadata": {},
   "outputs": [],
   "source": [
    "res = gpd.read_file(\"../results/all_mallorca/v1/hard_positive.geojson\")"
   ]
  },
  {
   "cell_type": "code",
   "execution_count": 6,
   "id": "c06f1ea2-96e5-443b-9925-6c910a43ebc3",
   "metadata": {},
   "outputs": [
    {
     "data": {
      "text/plain": [
       "(42939, 5)"
      ]
     },
     "execution_count": 6,
     "metadata": {},
     "output_type": "execute_result"
    }
   ],
   "source": [
    "res.shape"
   ]
  },
  {
   "cell_type": "code",
   "execution_count": 7,
   "id": "f58cad5e-9a9d-4eb9-a327-c0e8ec52a2cf",
   "metadata": {},
   "outputs": [
    {
     "data": {
      "text/html": [
       "<div>\n",
       "<style scoped>\n",
       "    .dataframe tbody tr th:only-of-type {\n",
       "        vertical-align: middle;\n",
       "    }\n",
       "\n",
       "    .dataframe tbody tr th {\n",
       "        vertical-align: top;\n",
       "    }\n",
       "\n",
       "    .dataframe thead th {\n",
       "        text-align: right;\n",
       "    }\n",
       "</style>\n",
       "<table border=\"1\" class=\"dataframe\">\n",
       "  <thead>\n",
       "    <tr style=\"text-align: right;\">\n",
       "      <th></th>\n",
       "      <th>polyID</th>\n",
       "      <th>confidence</th>\n",
       "      <th>layer</th>\n",
       "      <th>path</th>\n",
       "      <th>geometry</th>\n",
       "    </tr>\n",
       "  </thead>\n",
       "  <tbody>\n",
       "    <tr>\n",
       "      <th>21</th>\n",
       "      <td>9</td>\n",
       "      <td>0.275048</td>\n",
       "      <td>PNOA_MA_OF_ETRS89_HU31_h50_0644</td>\n",
       "      <td>/home/biel/Desktop/test1/PNOA_MA_OF_ETRS89_HU3...</td>\n",
       "      <td>POLYGON ((509743.618 4409245.520, 509743.618 4...</td>\n",
       "    </tr>\n",
       "    <tr>\n",
       "      <th>22</th>\n",
       "      <td>6466</td>\n",
       "      <td>0.231735</td>\n",
       "      <td>PNOA_MA_OF_ETRS89_HU31_h50_0671</td>\n",
       "      <td>/home/biel/Desktop/test1/PNOA_MA_OF_ETRS89_HU3...</td>\n",
       "      <td>POLYGON ((509743.624 4409245.493, 509743.624 4...</td>\n",
       "    </tr>\n",
       "    <tr>\n",
       "      <th>23</th>\n",
       "      <td>9</td>\n",
       "      <td>0.275048</td>\n",
       "      <td>PNOA_MA_OF_ETRS89_HU31_h50_0644</td>\n",
       "      <td>/home/biel/Desktop/test1/PNOA_MA_OF_ETRS89_HU3...</td>\n",
       "      <td>POLYGON ((509743.618 4409245.520, 509743.618 4...</td>\n",
       "    </tr>\n",
       "    <tr>\n",
       "      <th>25</th>\n",
       "      <td>6466</td>\n",
       "      <td>0.231735</td>\n",
       "      <td>PNOA_MA_OF_ETRS89_HU31_h50_0671</td>\n",
       "      <td>/home/biel/Desktop/test1/PNOA_MA_OF_ETRS89_HU3...</td>\n",
       "      <td>POLYGON ((509743.624 4409245.493, 509743.624 4...</td>\n",
       "    </tr>\n",
       "    <tr>\n",
       "      <th>44</th>\n",
       "      <td>6499</td>\n",
       "      <td>0.179514</td>\n",
       "      <td>PNOA_MA_OF_ETRS89_HU31_h50_0671</td>\n",
       "      <td>/home/biel/Desktop/test1/PNOA_MA_OF_ETRS89_HU3...</td>\n",
       "      <td>POLYGON ((510237.631 4409277.174, 510237.631 4...</td>\n",
       "    </tr>\n",
       "    <tr>\n",
       "      <th>...</th>\n",
       "      <td>...</td>\n",
       "      <td>...</td>\n",
       "      <td>...</td>\n",
       "      <td>...</td>\n",
       "      <td>...</td>\n",
       "    </tr>\n",
       "    <tr>\n",
       "      <th>42851</th>\n",
       "      <td>36</td>\n",
       "      <td>0.213218</td>\n",
       "      <td>PNOA_MA_OF_ETRS89_HU31_h50_0749</td>\n",
       "      <td>/home/biel/Desktop/test1/PNOA_MA_OF_ETRS89_HU3...</td>\n",
       "      <td>POLYGON ((513435.304 4353175.535, 513435.304 4...</td>\n",
       "    </tr>\n",
       "    <tr>\n",
       "      <th>42871</th>\n",
       "      <td>60</td>\n",
       "      <td>0.325247</td>\n",
       "      <td>PNOA_MA_OF_ETRS89_HU31_h50_0749</td>\n",
       "      <td>/home/biel/Desktop/test1/PNOA_MA_OF_ETRS89_HU3...</td>\n",
       "      <td>POLYGON ((512809.608 4353270.241, 512809.608 4...</td>\n",
       "    </tr>\n",
       "    <tr>\n",
       "      <th>42872</th>\n",
       "      <td>60</td>\n",
       "      <td>0.325247</td>\n",
       "      <td>PNOA_MA_OF_ETRS89_HU31_h50_0749</td>\n",
       "      <td>/home/biel/Desktop/test1/PNOA_MA_OF_ETRS89_HU3...</td>\n",
       "      <td>POLYGON ((512809.608 4353270.241, 512809.608 4...</td>\n",
       "    </tr>\n",
       "    <tr>\n",
       "      <th>42901</th>\n",
       "      <td>92</td>\n",
       "      <td>0.300019</td>\n",
       "      <td>PNOA_MA_OF_ETRS89_HU31_h50_0749</td>\n",
       "      <td>/home/biel/Desktop/test1/PNOA_MA_OF_ETRS89_HU3...</td>\n",
       "      <td>POLYGON ((513145.712 4353374.971, 513145.712 4...</td>\n",
       "    </tr>\n",
       "    <tr>\n",
       "      <th>42902</th>\n",
       "      <td>92</td>\n",
       "      <td>0.300019</td>\n",
       "      <td>PNOA_MA_OF_ETRS89_HU31_h50_0749</td>\n",
       "      <td>/home/biel/Desktop/test1/PNOA_MA_OF_ETRS89_HU3...</td>\n",
       "      <td>POLYGON ((513145.712 4353374.971, 513145.712 4...</td>\n",
       "    </tr>\n",
       "  </tbody>\n",
       "</table>\n",
       "<p>2274 rows × 5 columns</p>\n",
       "</div>"
      ],
      "text/plain": [
       "       polyID  confidence                            layer  \\\n",
       "21          9    0.275048  PNOA_MA_OF_ETRS89_HU31_h50_0644   \n",
       "22       6466    0.231735  PNOA_MA_OF_ETRS89_HU31_h50_0671   \n",
       "23          9    0.275048  PNOA_MA_OF_ETRS89_HU31_h50_0644   \n",
       "25       6466    0.231735  PNOA_MA_OF_ETRS89_HU31_h50_0671   \n",
       "44       6499    0.179514  PNOA_MA_OF_ETRS89_HU31_h50_0671   \n",
       "...       ...         ...                              ...   \n",
       "42851      36    0.213218  PNOA_MA_OF_ETRS89_HU31_h50_0749   \n",
       "42871      60    0.325247  PNOA_MA_OF_ETRS89_HU31_h50_0749   \n",
       "42872      60    0.325247  PNOA_MA_OF_ETRS89_HU31_h50_0749   \n",
       "42901      92    0.300019  PNOA_MA_OF_ETRS89_HU31_h50_0749   \n",
       "42902      92    0.300019  PNOA_MA_OF_ETRS89_HU31_h50_0749   \n",
       "\n",
       "                                                    path  \\\n",
       "21     /home/biel/Desktop/test1/PNOA_MA_OF_ETRS89_HU3...   \n",
       "22     /home/biel/Desktop/test1/PNOA_MA_OF_ETRS89_HU3...   \n",
       "23     /home/biel/Desktop/test1/PNOA_MA_OF_ETRS89_HU3...   \n",
       "25     /home/biel/Desktop/test1/PNOA_MA_OF_ETRS89_HU3...   \n",
       "44     /home/biel/Desktop/test1/PNOA_MA_OF_ETRS89_HU3...   \n",
       "...                                                  ...   \n",
       "42851  /home/biel/Desktop/test1/PNOA_MA_OF_ETRS89_HU3...   \n",
       "42871  /home/biel/Desktop/test1/PNOA_MA_OF_ETRS89_HU3...   \n",
       "42872  /home/biel/Desktop/test1/PNOA_MA_OF_ETRS89_HU3...   \n",
       "42901  /home/biel/Desktop/test1/PNOA_MA_OF_ETRS89_HU3...   \n",
       "42902  /home/biel/Desktop/test1/PNOA_MA_OF_ETRS89_HU3...   \n",
       "\n",
       "                                                geometry  \n",
       "21     POLYGON ((509743.618 4409245.520, 509743.618 4...  \n",
       "22     POLYGON ((509743.624 4409245.493, 509743.624 4...  \n",
       "23     POLYGON ((509743.618 4409245.520, 509743.618 4...  \n",
       "25     POLYGON ((509743.624 4409245.493, 509743.624 4...  \n",
       "44     POLYGON ((510237.631 4409277.174, 510237.631 4...  \n",
       "...                                                  ...  \n",
       "42851  POLYGON ((513435.304 4353175.535, 513435.304 4...  \n",
       "42871  POLYGON ((512809.608 4353270.241, 512809.608 4...  \n",
       "42872  POLYGON ((512809.608 4353270.241, 512809.608 4...  \n",
       "42901  POLYGON ((513145.712 4353374.971, 513145.712 4...  \n",
       "42902  POLYGON ((513145.712 4353374.971, 513145.712 4...  \n",
       "\n",
       "[2274 rows x 5 columns]"
      ]
     },
     "execution_count": 7,
     "metadata": {},
     "output_type": "execute_result"
    }
   ],
   "source": [
    "res[res.duplicated(keep=False)]"
   ]
  },
  {
   "cell_type": "code",
   "execution_count": 8,
   "id": "6da53d30-ea74-4e98-b59d-5f74e0b59361",
   "metadata": {},
   "outputs": [],
   "source": [
    "basses = gpd.read_file(\"../data/basses.geojson\")"
   ]
  },
  {
   "cell_type": "code",
   "execution_count": 9,
   "id": "d654802a-0fae-402c-956e-bae8c5a19cc8",
   "metadata": {},
   "outputs": [
    {
     "ename": "DriverError",
     "evalue": "/home/biel/Documents/Master/TFM/cadastre/piscines_all.shp: No such file or directory",
     "output_type": "error",
     "traceback": [
      "\u001b[0;31m---------------------------------------------------------------------------\u001b[0m",
      "\u001b[0;31mCPLE_OpenFailedError\u001b[0m                      Traceback (most recent call last)",
      "\u001b[0;32mfiona/_shim.pyx\u001b[0m in \u001b[0;36mfiona._shim.gdal_open_vector\u001b[0;34m()\u001b[0m\n",
      "\u001b[0;32mfiona/_err.pyx\u001b[0m in \u001b[0;36mfiona._err.exc_wrap_pointer\u001b[0;34m()\u001b[0m\n",
      "\u001b[0;31mCPLE_OpenFailedError\u001b[0m: /home/biel/Documents/Master/TFM/cadastre/piscines_all.shp: No such file or directory",
      "\nDuring handling of the above exception, another exception occurred:\n",
      "\u001b[0;31mDriverError\u001b[0m                               Traceback (most recent call last)",
      "\u001b[0;32m<ipython-input-9-59c69dd8fa83>\u001b[0m in \u001b[0;36m<module>\u001b[0;34m\u001b[0m\n\u001b[0;32m----> 1\u001b[0;31m \u001b[0mpools\u001b[0m \u001b[0;34m=\u001b[0m \u001b[0mgpd\u001b[0m\u001b[0;34m.\u001b[0m\u001b[0mread_file\u001b[0m\u001b[0;34m(\u001b[0m\u001b[0;34m\"/home/biel/Documents/Master/TFM/cadastre/piscines_all.shp\"\u001b[0m\u001b[0;34m)\u001b[0m\u001b[0;34m\u001b[0m\u001b[0;34m\u001b[0m\u001b[0m\n\u001b[0m",
      "\u001b[0;32m~/miniconda3/envs/yolo/lib/python3.9/site-packages/geopandas/io/file.py\u001b[0m in \u001b[0;36m_read_file\u001b[0;34m(filename, bbox, mask, rows, **kwargs)\u001b[0m\n\u001b[1;32m    158\u001b[0m \u001b[0;34m\u001b[0m\u001b[0m\n\u001b[1;32m    159\u001b[0m     \u001b[0;32mwith\u001b[0m \u001b[0mfiona_env\u001b[0m\u001b[0;34m(\u001b[0m\u001b[0;34m)\u001b[0m\u001b[0;34m:\u001b[0m\u001b[0;34m\u001b[0m\u001b[0;34m\u001b[0m\u001b[0m\n\u001b[0;32m--> 160\u001b[0;31m         \u001b[0;32mwith\u001b[0m \u001b[0mreader\u001b[0m\u001b[0;34m(\u001b[0m\u001b[0mpath_or_bytes\u001b[0m\u001b[0;34m,\u001b[0m \u001b[0;34m**\u001b[0m\u001b[0mkwargs\u001b[0m\u001b[0;34m)\u001b[0m \u001b[0;32mas\u001b[0m \u001b[0mfeatures\u001b[0m\u001b[0;34m:\u001b[0m\u001b[0;34m\u001b[0m\u001b[0;34m\u001b[0m\u001b[0m\n\u001b[0m\u001b[1;32m    161\u001b[0m \u001b[0;34m\u001b[0m\u001b[0m\n\u001b[1;32m    162\u001b[0m             \u001b[0;31m# In a future Fiona release the crs attribute of features will\u001b[0m\u001b[0;34m\u001b[0m\u001b[0;34m\u001b[0m\u001b[0;34m\u001b[0m\u001b[0m\n",
      "\u001b[0;32m~/miniconda3/envs/yolo/lib/python3.9/site-packages/fiona/env.py\u001b[0m in \u001b[0;36mwrapper\u001b[0;34m(*args, **kwargs)\u001b[0m\n\u001b[1;32m    398\u001b[0m     \u001b[0;32mdef\u001b[0m \u001b[0mwrapper\u001b[0m\u001b[0;34m(\u001b[0m\u001b[0;34m*\u001b[0m\u001b[0margs\u001b[0m\u001b[0;34m,\u001b[0m \u001b[0;34m**\u001b[0m\u001b[0mkwargs\u001b[0m\u001b[0;34m)\u001b[0m\u001b[0;34m:\u001b[0m\u001b[0;34m\u001b[0m\u001b[0;34m\u001b[0m\u001b[0m\n\u001b[1;32m    399\u001b[0m         \u001b[0;32mif\u001b[0m \u001b[0mlocal\u001b[0m\u001b[0;34m.\u001b[0m\u001b[0m_env\u001b[0m\u001b[0;34m:\u001b[0m\u001b[0;34m\u001b[0m\u001b[0;34m\u001b[0m\u001b[0m\n\u001b[0;32m--> 400\u001b[0;31m             \u001b[0;32mreturn\u001b[0m \u001b[0mf\u001b[0m\u001b[0;34m(\u001b[0m\u001b[0;34m*\u001b[0m\u001b[0margs\u001b[0m\u001b[0;34m,\u001b[0m \u001b[0;34m**\u001b[0m\u001b[0mkwargs\u001b[0m\u001b[0;34m)\u001b[0m\u001b[0;34m\u001b[0m\u001b[0;34m\u001b[0m\u001b[0m\n\u001b[0m\u001b[1;32m    401\u001b[0m         \u001b[0;32melse\u001b[0m\u001b[0;34m:\u001b[0m\u001b[0;34m\u001b[0m\u001b[0;34m\u001b[0m\u001b[0m\n\u001b[1;32m    402\u001b[0m             \u001b[0;32mif\u001b[0m \u001b[0misinstance\u001b[0m\u001b[0;34m(\u001b[0m\u001b[0margs\u001b[0m\u001b[0;34m[\u001b[0m\u001b[0;36m0\u001b[0m\u001b[0;34m]\u001b[0m\u001b[0;34m,\u001b[0m \u001b[0mstr\u001b[0m\u001b[0;34m)\u001b[0m\u001b[0;34m:\u001b[0m\u001b[0;34m\u001b[0m\u001b[0;34m\u001b[0m\u001b[0m\n",
      "\u001b[0;32m~/miniconda3/envs/yolo/lib/python3.9/site-packages/fiona/__init__.py\u001b[0m in \u001b[0;36mopen\u001b[0;34m(fp, mode, driver, schema, crs, encoding, layer, vfs, enabled_drivers, crs_wkt, **kwargs)\u001b[0m\n\u001b[1;32m    254\u001b[0m \u001b[0;34m\u001b[0m\u001b[0m\n\u001b[1;32m    255\u001b[0m         \u001b[0;32mif\u001b[0m \u001b[0mmode\u001b[0m \u001b[0;32min\u001b[0m \u001b[0;34m(\u001b[0m\u001b[0;34m'a'\u001b[0m\u001b[0;34m,\u001b[0m \u001b[0;34m'r'\u001b[0m\u001b[0;34m)\u001b[0m\u001b[0;34m:\u001b[0m\u001b[0;34m\u001b[0m\u001b[0;34m\u001b[0m\u001b[0m\n\u001b[0;32m--> 256\u001b[0;31m             c = Collection(path, mode, driver=driver, encoding=encoding,\n\u001b[0m\u001b[1;32m    257\u001b[0m                            layer=layer, enabled_drivers=enabled_drivers, **kwargs)\n\u001b[1;32m    258\u001b[0m         \u001b[0;32melif\u001b[0m \u001b[0mmode\u001b[0m \u001b[0;34m==\u001b[0m \u001b[0;34m'w'\u001b[0m\u001b[0;34m:\u001b[0m\u001b[0;34m\u001b[0m\u001b[0;34m\u001b[0m\u001b[0m\n",
      "\u001b[0;32m~/miniconda3/envs/yolo/lib/python3.9/site-packages/fiona/collection.py\u001b[0m in \u001b[0;36m__init__\u001b[0;34m(self, path, mode, driver, schema, crs, encoding, layer, vsi, archive, enabled_drivers, crs_wkt, ignore_fields, ignore_geometry, **kwargs)\u001b[0m\n\u001b[1;32m    160\u001b[0m             \u001b[0;32mif\u001b[0m \u001b[0mself\u001b[0m\u001b[0;34m.\u001b[0m\u001b[0mmode\u001b[0m \u001b[0;34m==\u001b[0m \u001b[0;34m'r'\u001b[0m\u001b[0;34m:\u001b[0m\u001b[0;34m\u001b[0m\u001b[0;34m\u001b[0m\u001b[0m\n\u001b[1;32m    161\u001b[0m                 \u001b[0mself\u001b[0m\u001b[0;34m.\u001b[0m\u001b[0msession\u001b[0m \u001b[0;34m=\u001b[0m \u001b[0mSession\u001b[0m\u001b[0;34m(\u001b[0m\u001b[0;34m)\u001b[0m\u001b[0;34m\u001b[0m\u001b[0;34m\u001b[0m\u001b[0m\n\u001b[0;32m--> 162\u001b[0;31m                 \u001b[0mself\u001b[0m\u001b[0;34m.\u001b[0m\u001b[0msession\u001b[0m\u001b[0;34m.\u001b[0m\u001b[0mstart\u001b[0m\u001b[0;34m(\u001b[0m\u001b[0mself\u001b[0m\u001b[0;34m,\u001b[0m \u001b[0;34m**\u001b[0m\u001b[0mkwargs\u001b[0m\u001b[0;34m)\u001b[0m\u001b[0;34m\u001b[0m\u001b[0;34m\u001b[0m\u001b[0m\n\u001b[0m\u001b[1;32m    163\u001b[0m             \u001b[0;32melif\u001b[0m \u001b[0mself\u001b[0m\u001b[0;34m.\u001b[0m\u001b[0mmode\u001b[0m \u001b[0;32min\u001b[0m \u001b[0;34m(\u001b[0m\u001b[0;34m'a'\u001b[0m\u001b[0;34m,\u001b[0m \u001b[0;34m'w'\u001b[0m\u001b[0;34m)\u001b[0m\u001b[0;34m:\u001b[0m\u001b[0;34m\u001b[0m\u001b[0;34m\u001b[0m\u001b[0m\n\u001b[1;32m    164\u001b[0m                 \u001b[0mself\u001b[0m\u001b[0;34m.\u001b[0m\u001b[0msession\u001b[0m \u001b[0;34m=\u001b[0m \u001b[0mWritingSession\u001b[0m\u001b[0;34m(\u001b[0m\u001b[0;34m)\u001b[0m\u001b[0;34m\u001b[0m\u001b[0;34m\u001b[0m\u001b[0m\n",
      "\u001b[0;32mfiona/ogrext.pyx\u001b[0m in \u001b[0;36mfiona.ogrext.Session.start\u001b[0;34m()\u001b[0m\n",
      "\u001b[0;32mfiona/_shim.pyx\u001b[0m in \u001b[0;36mfiona._shim.gdal_open_vector\u001b[0;34m()\u001b[0m\n",
      "\u001b[0;31mDriverError\u001b[0m: /home/biel/Documents/Master/TFM/cadastre/piscines_all.shp: No such file or directory"
     ]
    }
   ],
   "source": [
    "pools = gpd.read_file(\"/home/biel/Documents/Master/TFM/cadastre/piscines_all.shp\")"
   ]
  },
  {
   "cell_type": "code",
   "execution_count": 11,
   "id": "5f3447be-0f50-4afc-af63-fbac2a76e7e5",
   "metadata": {},
   "outputs": [
    {
     "data": {
      "text/plain": [
       "(52375, 24)"
      ]
     },
     "execution_count": 11,
     "metadata": {},
     "output_type": "execute_result"
    }
   ],
   "source": [
    "pools.shape"
   ]
  },
  {
   "cell_type": "code",
   "execution_count": 12,
   "id": "9cc98236-c546-4aac-9006-0127208ec8e9",
   "metadata": {},
   "outputs": [
    {
     "data": {
      "text/plain": [
       "52883"
      ]
     },
     "execution_count": 12,
     "metadata": {},
     "output_type": "execute_result"
    }
   ],
   "source": [
    "54569 - 1686"
   ]
  },
  {
   "cell_type": "code",
   "execution_count": null,
   "id": "adab3c7e-99e8-4f38-9a9a-03b7037f0107",
   "metadata": {},
   "outputs": [],
   "source": []
  }
 ],
 "metadata": {
  "kernelspec": {
   "display_name": "Python 3",
   "language": "python",
   "name": "python3"
  },
  "language_info": {
   "codemirror_mode": {
    "name": "ipython",
    "version": 3
   },
   "file_extension": ".py",
   "mimetype": "text/x-python",
   "name": "python",
   "nbconvert_exporter": "python",
   "pygments_lexer": "ipython3",
   "version": "3.9.5"
  }
 },
 "nbformat": 4,
 "nbformat_minor": 5
}
