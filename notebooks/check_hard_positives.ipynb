{
 "cells": [
  {
   "cell_type": "code",
   "execution_count": 1,
   "id": "7dd7a471-cc79-4265-8bbe-584aa87ad2d2",
   "metadata": {},
   "outputs": [],
   "source": [
    "import geopandas as gpd\n",
    "import pandas as pd"
   ]
  },
  {
   "cell_type": "code",
   "execution_count": 2,
   "id": "3a58fe79-cc25-491c-9076-23665ef57f9a",
   "metadata": {},
   "outputs": [],
   "source": [
    "res = gpd.read_file(\"../results/full_run/v1/hard_positive.geojson\")"
   ]
  },
  {
   "cell_type": "code",
   "execution_count": 3,
   "id": "c06f1ea2-96e5-443b-9925-6c910a43ebc3",
   "metadata": {},
   "outputs": [
    {
     "data": {
      "text/plain": [
       "(54569, 5)"
      ]
     },
     "execution_count": 3,
     "metadata": {},
     "output_type": "execute_result"
    }
   ],
   "source": [
    "res.shape"
   ]
  },
  {
   "cell_type": "code",
   "execution_count": 13,
   "id": "f58cad5e-9a9d-4eb9-a327-c0e8ec52a2cf",
   "metadata": {},
   "outputs": [
    {
     "data": {
      "text/html": [
       "<div>\n",
       "<style scoped>\n",
       "    .dataframe tbody tr th:only-of-type {\n",
       "        vertical-align: middle;\n",
       "    }\n",
       "\n",
       "    .dataframe tbody tr th {\n",
       "        vertical-align: top;\n",
       "    }\n",
       "\n",
       "    .dataframe thead th {\n",
       "        text-align: right;\n",
       "    }\n",
       "</style>\n",
       "<table border=\"1\" class=\"dataframe\">\n",
       "  <thead>\n",
       "    <tr style=\"text-align: right;\">\n",
       "      <th></th>\n",
       "      <th>polyID</th>\n",
       "      <th>confidence</th>\n",
       "      <th>layer</th>\n",
       "      <th>path</th>\n",
       "      <th>geometry</th>\n",
       "    </tr>\n",
       "  </thead>\n",
       "  <tbody>\n",
       "    <tr>\n",
       "      <th>21</th>\n",
       "      <td>9</td>\n",
       "      <td>0.275048</td>\n",
       "      <td>PNOA_MA_OF_ETRS89_HU31_h50_0644</td>\n",
       "      <td>/home/biel/Desktop/test1/PNOA_MA_OF_ETRS89_HU3...</td>\n",
       "      <td>POLYGON ((509743.618 4409245.520, 509743.618 4...</td>\n",
       "    </tr>\n",
       "    <tr>\n",
       "      <th>22</th>\n",
       "      <td>6466</td>\n",
       "      <td>0.231735</td>\n",
       "      <td>PNOA_MA_OF_ETRS89_HU31_h50_0671</td>\n",
       "      <td>/home/biel/Desktop/test1/PNOA_MA_OF_ETRS89_HU3...</td>\n",
       "      <td>POLYGON ((509743.624 4409245.493, 509743.624 4...</td>\n",
       "    </tr>\n",
       "    <tr>\n",
       "      <th>23</th>\n",
       "      <td>9</td>\n",
       "      <td>0.275048</td>\n",
       "      <td>PNOA_MA_OF_ETRS89_HU31_h50_0644</td>\n",
       "      <td>/home/biel/Desktop/test1/PNOA_MA_OF_ETRS89_HU3...</td>\n",
       "      <td>POLYGON ((509743.618 4409245.520, 509743.618 4...</td>\n",
       "    </tr>\n",
       "    <tr>\n",
       "      <th>25</th>\n",
       "      <td>6466</td>\n",
       "      <td>0.231735</td>\n",
       "      <td>PNOA_MA_OF_ETRS89_HU31_h50_0671</td>\n",
       "      <td>/home/biel/Desktop/test1/PNOA_MA_OF_ETRS89_HU3...</td>\n",
       "      <td>POLYGON ((509743.624 4409245.493, 509743.624 4...</td>\n",
       "    </tr>\n",
       "    <tr>\n",
       "      <th>44</th>\n",
       "      <td>6499</td>\n",
       "      <td>0.179514</td>\n",
       "      <td>PNOA_MA_OF_ETRS89_HU31_h50_0671</td>\n",
       "      <td>/home/biel/Desktop/test1/PNOA_MA_OF_ETRS89_HU3...</td>\n",
       "      <td>POLYGON ((510237.631 4409277.174, 510237.631 4...</td>\n",
       "    </tr>\n",
       "    <tr>\n",
       "      <th>...</th>\n",
       "      <td>...</td>\n",
       "      <td>...</td>\n",
       "      <td>...</td>\n",
       "      <td>...</td>\n",
       "      <td>...</td>\n",
       "    </tr>\n",
       "    <tr>\n",
       "      <th>54481</th>\n",
       "      <td>36</td>\n",
       "      <td>0.213218</td>\n",
       "      <td>PNOA_MA_OF_ETRS89_HU31_h50_0749</td>\n",
       "      <td>/home/biel/Desktop/test1/PNOA_MA_OF_ETRS89_HU3...</td>\n",
       "      <td>POLYGON ((513435.304 4353175.535, 513435.304 4...</td>\n",
       "    </tr>\n",
       "    <tr>\n",
       "      <th>54501</th>\n",
       "      <td>60</td>\n",
       "      <td>0.325247</td>\n",
       "      <td>PNOA_MA_OF_ETRS89_HU31_h50_0749</td>\n",
       "      <td>/home/biel/Desktop/test1/PNOA_MA_OF_ETRS89_HU3...</td>\n",
       "      <td>POLYGON ((512809.608 4353270.241, 512809.608 4...</td>\n",
       "    </tr>\n",
       "    <tr>\n",
       "      <th>54502</th>\n",
       "      <td>60</td>\n",
       "      <td>0.325247</td>\n",
       "      <td>PNOA_MA_OF_ETRS89_HU31_h50_0749</td>\n",
       "      <td>/home/biel/Desktop/test1/PNOA_MA_OF_ETRS89_HU3...</td>\n",
       "      <td>POLYGON ((512809.608 4353270.241, 512809.608 4...</td>\n",
       "    </tr>\n",
       "    <tr>\n",
       "      <th>54531</th>\n",
       "      <td>92</td>\n",
       "      <td>0.300019</td>\n",
       "      <td>PNOA_MA_OF_ETRS89_HU31_h50_0749</td>\n",
       "      <td>/home/biel/Desktop/test1/PNOA_MA_OF_ETRS89_HU3...</td>\n",
       "      <td>POLYGON ((513145.712 4353374.971, 513145.712 4...</td>\n",
       "    </tr>\n",
       "    <tr>\n",
       "      <th>54532</th>\n",
       "      <td>92</td>\n",
       "      <td>0.300019</td>\n",
       "      <td>PNOA_MA_OF_ETRS89_HU31_h50_0749</td>\n",
       "      <td>/home/biel/Desktop/test1/PNOA_MA_OF_ETRS89_HU3...</td>\n",
       "      <td>POLYGON ((513145.712 4353374.971, 513145.712 4...</td>\n",
       "    </tr>\n",
       "  </tbody>\n",
       "</table>\n",
       "<p>3170 rows × 5 columns</p>\n",
       "</div>"
      ],
      "text/plain": [
       "       polyID  confidence                            layer  \\\n",
       "21          9    0.275048  PNOA_MA_OF_ETRS89_HU31_h50_0644   \n",
       "22       6466    0.231735  PNOA_MA_OF_ETRS89_HU31_h50_0671   \n",
       "23          9    0.275048  PNOA_MA_OF_ETRS89_HU31_h50_0644   \n",
       "25       6466    0.231735  PNOA_MA_OF_ETRS89_HU31_h50_0671   \n",
       "44       6499    0.179514  PNOA_MA_OF_ETRS89_HU31_h50_0671   \n",
       "...       ...         ...                              ...   \n",
       "54481      36    0.213218  PNOA_MA_OF_ETRS89_HU31_h50_0749   \n",
       "54501      60    0.325247  PNOA_MA_OF_ETRS89_HU31_h50_0749   \n",
       "54502      60    0.325247  PNOA_MA_OF_ETRS89_HU31_h50_0749   \n",
       "54531      92    0.300019  PNOA_MA_OF_ETRS89_HU31_h50_0749   \n",
       "54532      92    0.300019  PNOA_MA_OF_ETRS89_HU31_h50_0749   \n",
       "\n",
       "                                                    path  \\\n",
       "21     /home/biel/Desktop/test1/PNOA_MA_OF_ETRS89_HU3...   \n",
       "22     /home/biel/Desktop/test1/PNOA_MA_OF_ETRS89_HU3...   \n",
       "23     /home/biel/Desktop/test1/PNOA_MA_OF_ETRS89_HU3...   \n",
       "25     /home/biel/Desktop/test1/PNOA_MA_OF_ETRS89_HU3...   \n",
       "44     /home/biel/Desktop/test1/PNOA_MA_OF_ETRS89_HU3...   \n",
       "...                                                  ...   \n",
       "54481  /home/biel/Desktop/test1/PNOA_MA_OF_ETRS89_HU3...   \n",
       "54501  /home/biel/Desktop/test1/PNOA_MA_OF_ETRS89_HU3...   \n",
       "54502  /home/biel/Desktop/test1/PNOA_MA_OF_ETRS89_HU3...   \n",
       "54531  /home/biel/Desktop/test1/PNOA_MA_OF_ETRS89_HU3...   \n",
       "54532  /home/biel/Desktop/test1/PNOA_MA_OF_ETRS89_HU3...   \n",
       "\n",
       "                                                geometry  \n",
       "21     POLYGON ((509743.618 4409245.520, 509743.618 4...  \n",
       "22     POLYGON ((509743.624 4409245.493, 509743.624 4...  \n",
       "23     POLYGON ((509743.618 4409245.520, 509743.618 4...  \n",
       "25     POLYGON ((509743.624 4409245.493, 509743.624 4...  \n",
       "44     POLYGON ((510237.631 4409277.174, 510237.631 4...  \n",
       "...                                                  ...  \n",
       "54481  POLYGON ((513435.304 4353175.535, 513435.304 4...  \n",
       "54501  POLYGON ((512809.608 4353270.241, 512809.608 4...  \n",
       "54502  POLYGON ((512809.608 4353270.241, 512809.608 4...  \n",
       "54531  POLYGON ((513145.712 4353374.971, 513145.712 4...  \n",
       "54532  POLYGON ((513145.712 4353374.971, 513145.712 4...  \n",
       "\n",
       "[3170 rows x 5 columns]"
      ]
     },
     "execution_count": 13,
     "metadata": {},
     "output_type": "execute_result"
    }
   ],
   "source": [
    "res[res.duplicated(keep=False)]"
   ]
  },
  {
   "cell_type": "code",
   "execution_count": 8,
   "id": "6da53d30-ea74-4e98-b59d-5f74e0b59361",
   "metadata": {},
   "outputs": [],
   "source": [
    "basses = gpd.read_file(\"../data/basses.geojson\")"
   ]
  },
  {
   "cell_type": "code",
   "execution_count": 10,
   "id": "d654802a-0fae-402c-956e-bae8c5a19cc8",
   "metadata": {},
   "outputs": [],
   "source": [
    "pools = gpd.read_file(\"/home/biel/Documents/Master/TFM/cadastre/piscines_all.shp\")"
   ]
  },
  {
   "cell_type": "code",
   "execution_count": 11,
   "id": "5f3447be-0f50-4afc-af63-fbac2a76e7e5",
   "metadata": {},
   "outputs": [
    {
     "data": {
      "text/plain": [
       "(52375, 24)"
      ]
     },
     "execution_count": 11,
     "metadata": {},
     "output_type": "execute_result"
    }
   ],
   "source": [
    "pools.shape"
   ]
  },
  {
   "cell_type": "code",
   "execution_count": 12,
   "id": "9cc98236-c546-4aac-9006-0127208ec8e9",
   "metadata": {},
   "outputs": [
    {
     "data": {
      "text/plain": [
       "52883"
      ]
     },
     "execution_count": 12,
     "metadata": {},
     "output_type": "execute_result"
    }
   ],
   "source": [
    "54569 - 1686"
   ]
  },
  {
   "cell_type": "code",
   "execution_count": null,
   "id": "adab3c7e-99e8-4f38-9a9a-03b7037f0107",
   "metadata": {},
   "outputs": [],
   "source": []
  }
 ],
 "metadata": {
  "kernelspec": {
   "display_name": "Python 3",
   "language": "python",
   "name": "python3"
  },
  "language_info": {
   "codemirror_mode": {
    "name": "ipython",
    "version": 3
   },
   "file_extension": ".py",
   "mimetype": "text/x-python",
   "name": "python",
   "nbconvert_exporter": "python",
   "pygments_lexer": "ipython3",
   "version": "3.9.4"
  }
 },
 "nbformat": 4,
 "nbformat_minor": 5
}
