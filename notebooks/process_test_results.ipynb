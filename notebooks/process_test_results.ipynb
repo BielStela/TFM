{
 "cells": [
  {
   "cell_type": "code",
   "execution_count": 1,
   "metadata": {
    "tags": []
   },
   "outputs": [
    {
     "ename": "ModuleNotFoundError",
     "evalue": "No module named 'seaborn'",
     "output_type": "error",
     "traceback": [
      "\u001b[0;31m---------------------------------------------------------------------------\u001b[0m",
      "\u001b[0;31mModuleNotFoundError\u001b[0m                       Traceback (most recent call last)",
      "\u001b[0;32m<ipython-input-1-5ed0fb378cc3>\u001b[0m in \u001b[0;36m<module>\u001b[0;34m\u001b[0m\n\u001b[1;32m      3\u001b[0m \u001b[0;32mfrom\u001b[0m \u001b[0mshapely\u001b[0m\u001b[0;34m.\u001b[0m\u001b[0mgeometry\u001b[0m \u001b[0;32mimport\u001b[0m \u001b[0mPolygon\u001b[0m\u001b[0;34m,\u001b[0m \u001b[0mbox\u001b[0m\u001b[0;34m\u001b[0m\u001b[0;34m\u001b[0m\u001b[0m\n\u001b[1;32m      4\u001b[0m \u001b[0;32mimport\u001b[0m \u001b[0mmatplotlib\u001b[0m\u001b[0;34m.\u001b[0m\u001b[0mpyplot\u001b[0m \u001b[0;32mas\u001b[0m \u001b[0mplt\u001b[0m\u001b[0;34m\u001b[0m\u001b[0;34m\u001b[0m\u001b[0m\n\u001b[0;32m----> 5\u001b[0;31m \u001b[0;32mimport\u001b[0m \u001b[0mseaborn\u001b[0m \u001b[0;32mas\u001b[0m \u001b[0msns\u001b[0m\u001b[0;34m\u001b[0m\u001b[0;34m\u001b[0m\u001b[0m\n\u001b[0m\u001b[1;32m      6\u001b[0m \u001b[0msns\u001b[0m\u001b[0;34m.\u001b[0m\u001b[0mset\u001b[0m\u001b[0;34m(\u001b[0m\u001b[0mcontext\u001b[0m\u001b[0;34m=\u001b[0m\u001b[0;34m\"poster\"\u001b[0m\u001b[0;34m,\u001b[0m \u001b[0mstyle\u001b[0m\u001b[0;34m=\u001b[0m\u001b[0;34m\"white\"\u001b[0m\u001b[0;34m)\u001b[0m\u001b[0;34m\u001b[0m\u001b[0;34m\u001b[0m\u001b[0m\n\u001b[1;32m      7\u001b[0m \u001b[0;34m\u001b[0m\u001b[0m\n",
      "\u001b[0;31mModuleNotFoundError\u001b[0m: No module named 'seaborn'"
     ]
    }
   ],
   "source": [
    "import geopandas as gpd\n",
    "import numpy as np\n",
    "from shapely.geometry import Polygon, box\n",
    "import matplotlib.pyplot as plt\n",
    "import seaborn as sns\n",
    "sns.set(context=\"poster\", style=\"white\")\n",
    "\n",
    "from sklearn.metrics import recall_score, precision_score#"
   ]
  },
  {
   "cell_type": "code",
   "execution_count": 3,
   "metadata": {
    "collapsed": false,
    "jupyter": {
     "outputs_hidden": false
    },
    "pycharm": {
     "name": "#%%\n"
    }
   },
   "outputs": [],
   "source": [
    "df = gpd.read_file(\"../results/test_results/test_results_clean.geojson\")"
   ]
  },
  {
   "cell_type": "code",
   "execution_count": 4,
   "metadata": {},
   "outputs": [
    {
     "data": {
      "text/html": [
       "<div>\n",
       "<style scoped>\n",
       "    .dataframe tbody tr th:only-of-type {\n",
       "        vertical-align: middle;\n",
       "    }\n",
       "\n",
       "    .dataframe tbody tr th {\n",
       "        vertical-align: top;\n",
       "    }\n",
       "\n",
       "    .dataframe thead th {\n",
       "        text-align: right;\n",
       "    }\n",
       "</style>\n",
       "<table border=\"1\" class=\"dataframe\">\n",
       "  <thead>\n",
       "    <tr style=\"text-align: right;\">\n",
       "      <th></th>\n",
       "      <th>polyID</th>\n",
       "      <th>confidence</th>\n",
       "      <th>geometry</th>\n",
       "    </tr>\n",
       "  </thead>\n",
       "  <tbody>\n",
       "    <tr>\n",
       "      <th>0</th>\n",
       "      <td>0</td>\n",
       "      <td>0.141959</td>\n",
       "      <td>POLYGON ((504157.090 4346532.918, 504157.090 4...</td>\n",
       "    </tr>\n",
       "    <tr>\n",
       "      <th>1</th>\n",
       "      <td>1</td>\n",
       "      <td>0.111056</td>\n",
       "      <td>POLYGON ((502936.377 4348615.003, 502936.377 4...</td>\n",
       "    </tr>\n",
       "    <tr>\n",
       "      <th>2</th>\n",
       "      <td>2</td>\n",
       "      <td>0.149852</td>\n",
       "      <td>POLYGON ((503238.981 4349085.336, 503238.981 4...</td>\n",
       "    </tr>\n",
       "    <tr>\n",
       "      <th>3</th>\n",
       "      <td>3</td>\n",
       "      <td>0.334212</td>\n",
       "      <td>POLYGON ((505096.351 4349217.633, 505096.351 4...</td>\n",
       "    </tr>\n",
       "    <tr>\n",
       "      <th>4</th>\n",
       "      <td>4</td>\n",
       "      <td>0.122452</td>\n",
       "      <td>POLYGON ((503925.778 4349317.535, 503925.778 4...</td>\n",
       "    </tr>\n",
       "    <tr>\n",
       "      <th>...</th>\n",
       "      <td>...</td>\n",
       "      <td>...</td>\n",
       "      <td>...</td>\n",
       "    </tr>\n",
       "    <tr>\n",
       "      <th>733</th>\n",
       "      <td>733</td>\n",
       "      <td>0.264853</td>\n",
       "      <td>POLYGON ((512533.137 4353341.981, 512533.137 4...</td>\n",
       "    </tr>\n",
       "    <tr>\n",
       "      <th>734</th>\n",
       "      <td>734</td>\n",
       "      <td>0.246031</td>\n",
       "      <td>POLYGON ((504370.950 4353352.838, 504370.950 4...</td>\n",
       "    </tr>\n",
       "    <tr>\n",
       "      <th>735</th>\n",
       "      <td>735</td>\n",
       "      <td>0.149733</td>\n",
       "      <td>POLYGON ((498799.791 4352767.206, 498799.791 4...</td>\n",
       "    </tr>\n",
       "    <tr>\n",
       "      <th>736</th>\n",
       "      <td>736</td>\n",
       "      <td>0.130422</td>\n",
       "      <td>POLYGON ((500263.537 4352769.426, 500263.537 4...</td>\n",
       "    </tr>\n",
       "    <tr>\n",
       "      <th>737</th>\n",
       "      <td>737</td>\n",
       "      <td>0.282604</td>\n",
       "      <td>POLYGON ((508370.123 4352771.426, 508370.123 4...</td>\n",
       "    </tr>\n",
       "  </tbody>\n",
       "</table>\n",
       "<p>738 rows × 3 columns</p>\n",
       "</div>"
      ],
      "text/plain": [
       "     polyID  confidence                                           geometry\n",
       "0         0    0.141959  POLYGON ((504157.090 4346532.918, 504157.090 4...\n",
       "1         1    0.111056  POLYGON ((502936.377 4348615.003, 502936.377 4...\n",
       "2         2    0.149852  POLYGON ((503238.981 4349085.336, 503238.981 4...\n",
       "3         3    0.334212  POLYGON ((505096.351 4349217.633, 505096.351 4...\n",
       "4         4    0.122452  POLYGON ((503925.778 4349317.535, 503925.778 4...\n",
       "..      ...         ...                                                ...\n",
       "733     733    0.264853  POLYGON ((512533.137 4353341.981, 512533.137 4...\n",
       "734     734    0.246031  POLYGON ((504370.950 4353352.838, 504370.950 4...\n",
       "735     735    0.149733  POLYGON ((498799.791 4352767.206, 498799.791 4...\n",
       "736     736    0.130422  POLYGON ((500263.537 4352769.426, 500263.537 4...\n",
       "737     737    0.282604  POLYGON ((508370.123 4352771.426, 508370.123 4...\n",
       "\n",
       "[738 rows x 3 columns]"
      ]
     },
     "execution_count": 4,
     "metadata": {},
     "output_type": "execute_result"
    }
   ],
   "source": [
    "df"
   ]
  },
  {
   "cell_type": "code",
   "execution_count": 5,
   "metadata": {},
   "outputs": [
    {
     "data": {
      "text/plain": [
       "(589, 4)"
      ]
     },
     "execution_count": 5,
     "metadata": {},
     "output_type": "execute_result"
    }
   ],
   "source": [
    "truth = gpd.read_file(\"../data/test_bbox_rev.shp\")\n",
    "truth.shape"
   ]
  },
  {
   "cell_type": "code",
   "execution_count": 6,
   "metadata": {},
   "outputs": [],
   "source": [
    "overlaps = gpd.sjoin(df, truth)"
   ]
  },
  {
   "cell_type": "code",
   "execution_count": 7,
   "metadata": {},
   "outputs": [
    {
     "data": {
      "image/png": "[encoded data removed]",
      "text/plain": [
       "<Figure size 432x288 with 1 Axes>"
      ]
     },
     "metadata": {
      "needs_background": "light"
     },
     "output_type": "display_data"
    }
   ],
   "source": [
    "hard_positive = df.loc[overlaps.index]\n",
    "hard_positive[\"confidence\"].hist(grid=False)\n",
    "plt.title(\"True positive confidence distribution\");\n",
    "plt.savefig(\"tp_conf_dist.svg\", format=\"svg\")"
   ]
  },
  {
   "cell_type": "code",
   "execution_count": 8,
   "metadata": {},
   "outputs": [
    {
     "data": {
      "image/png": "[encoded data removed]",
      "text/plain": [
       "<Figure size 432x288 with 1 Axes>"
      ]
     },
     "metadata": {
      "needs_background": "light"
     },
     "output_type": "display_data"
    }
   ],
   "source": [
    "hard_negative = df.loc[~df.index.isin(overlaps.index)]\n",
    "hard_negative[\"confidence\"].hist(grid=False)\n",
    "plt.title(\"False positive confidence distribution\");\n",
    "plt.savefig(\"fp_conf_dist.svg\", format=\"svg\")"
   ]
  },
  {
   "cell_type": "code",
   "execution_count": 9,
   "metadata": {},
   "outputs": [
    {
     "name": "stderr",
     "output_type": "stream",
     "text": [
      "/home/biel/miniconda3/envs/yolo/lib/python3.9/site-packages/pandas/core/indexing.py:670: SettingWithCopyWarning: \n",
      "A value is trying to be set on a copy of a slice from a DataFrame\n",
      "\n",
      "See the caveats in the documentation: https://pandas.pydata.org/pandas-docs/stable/user_guide/indexing.html#returning-a-view-versus-a-copy\n",
      "  iloc._setitem_with_indexer(indexer, value)\n"
     ]
    }
   ],
   "source": [
    "df[\"detect_status\"] = \"\"\n",
    "df[\"detect_status\"].loc[~df.index.isin(overlaps.index)] = \"Hard Negative\"\n",
    "df[\"detect_status\"].loc[overlaps.index] = \"Hard Positives\""
   ]
  },
  {
   "cell_type": "code",
   "execution_count": 10,
   "metadata": {},
   "outputs": [
    {
     "ename": "NameError",
     "evalue": "name 'sns' is not defined",
     "output_type": "error",
     "traceback": [
      "\u001b[0;31m---------------------------------------------------------------------------\u001b[0m",
      "\u001b[0;31mNameError\u001b[0m                                 Traceback (most recent call last)",
      "\u001b[0;32m<ipython-input-10-c63eb9ab1a28>\u001b[0m in \u001b[0;36m<module>\u001b[0;34m\u001b[0m\n\u001b[1;32m      1\u001b[0m \u001b[0mf\u001b[0m\u001b[0;34m,\u001b[0m \u001b[0max\u001b[0m \u001b[0;34m=\u001b[0m \u001b[0mplt\u001b[0m\u001b[0;34m.\u001b[0m\u001b[0msubplots\u001b[0m\u001b[0;34m(\u001b[0m\u001b[0mfigsize\u001b[0m\u001b[0;34m=\u001b[0m\u001b[0;34m(\u001b[0m\u001b[0;36m10\u001b[0m\u001b[0;34m,\u001b[0m \u001b[0;36m6\u001b[0m\u001b[0;34m)\u001b[0m\u001b[0;34m)\u001b[0m\u001b[0;34m\u001b[0m\u001b[0;34m\u001b[0m\u001b[0m\n\u001b[0;32m----> 2\u001b[0;31m \u001b[0msns\u001b[0m\u001b[0;34m.\u001b[0m\u001b[0mdespine\u001b[0m\u001b[0;34m(\u001b[0m\u001b[0mf\u001b[0m\u001b[0;34m)\u001b[0m\u001b[0;34m\u001b[0m\u001b[0;34m\u001b[0m\u001b[0m\n\u001b[0m\u001b[1;32m      3\u001b[0m g = sns.histplot(\n\u001b[1;32m      4\u001b[0m     \u001b[0mdf\u001b[0m\u001b[0;34m,\u001b[0m\u001b[0;34m\u001b[0m\u001b[0;34m\u001b[0m\u001b[0m\n\u001b[1;32m      5\u001b[0m     \u001b[0mx\u001b[0m\u001b[0;34m=\u001b[0m\u001b[0;34m\"confidence\"\u001b[0m\u001b[0;34m,\u001b[0m \u001b[0mhue\u001b[0m\u001b[0;34m=\u001b[0m\u001b[0;34m\"detect_status\"\u001b[0m\u001b[0;34m,\u001b[0m\u001b[0;34m\u001b[0m\u001b[0;34m\u001b[0m\u001b[0m\n",
      "\u001b[0;31mNameError\u001b[0m: name 'sns' is not defined"
     ]
    },
    {
     "data": {
      "image/png": "[encoded data removed]",
      "text/plain": [
       "<Figure size 720x432 with 1 Axes>"
      ]
     },
     "metadata": {
      "needs_background": "light"
     },
     "output_type": "display_data"
    }
   ],
   "source": [
    "f, ax = plt.subplots(figsize=(10, 6))\n",
    "sns.despine(f)\n",
    "g = sns.histplot(\n",
    "    df,\n",
    "    x=\"confidence\", hue=\"detect_status\",\n",
    "#     multiple=\"stack\",\n",
    "    palette=[\"tab:red\", \"tab:blue\"],\n",
    "    edgecolor=\".3\",\n",
    "    linewidth=.5,\n",
    "    ax=ax,\n",
    ")\n",
    "legend = ax.get_legend()\n",
    "handles = legend.legendHandles\n",
    "ax.legend(handles, [\"False positive\", \"True positive\"], title=\"\", fontsize=\"x-small\")\n",
    "plt.savefig(\"conf_dist.svg\", dpi=90, bbox_inches=\"tight\", format=\"svg\")"
   ]
  },
  {
   "cell_type": "code",
   "execution_count": null,
   "metadata": {},
   "outputs": [],
   "source": []
  },
  {
   "cell_type": "code",
   "execution_count": null,
   "metadata": {},
   "outputs": [],
   "source": []
  },
  {
   "cell_type": "code",
   "execution_count": 15,
   "metadata": {},
   "outputs": [],
   "source": [
    "hard_positive.to_file(\"../results/hard_posotive.geojson\", driver='GeoJSON')\n",
    "hard_negative.to_file(\"../results/hard_negative.geojson\", driver='GeoJSON')"
   ]
  },
  {
   "cell_type": "code",
   "execution_count": 16,
   "metadata": {},
   "outputs": [
    {
     "data": {
      "text/plain": [
       "589"
      ]
     },
     "execution_count": 16,
     "metadata": {},
     "output_type": "execute_result"
    }
   ],
   "source": [
    "truth.shape[0]"
   ]
  },
  {
   "cell_type": "code",
   "execution_count": 17,
   "metadata": {},
   "outputs": [],
   "source": [
    "not_in = gpd.sjoin(truth, df)\n",
    "misses = truth.loc[~truth.index.isin(not_in.index)]"
   ]
  },
  {
   "cell_type": "code",
   "execution_count": 18,
   "metadata": {},
   "outputs": [],
   "source": [
    "misses.to_file(\"../results/misses.geojson\", driver='GeoJSON')"
   ]
  },
  {
   "cell_type": "code",
   "execution_count": 40,
   "metadata": {},
   "outputs": [
    {
     "data": {
      "text/plain": [
       "57"
      ]
     },
     "execution_count": 40,
     "metadata": {},
     "output_type": "execute_result"
    }
   ],
   "source": [
    "len(misses)"
   ]
  },
  {
   "cell_type": "markdown",
   "metadata": {},
   "source": [
    "## ROC curve\n",
    "\n",
    "1. add col for true positive and false positive "
   ]
  },
  {
   "cell_type": "code",
   "execution_count": 19,
   "metadata": {},
   "outputs": [],
   "source": [
    "df[\"true_positive\"] = np.where(df.index.isin(overlaps.index), True, False)\n",
    "df[\"false_positive\"] = np.where(~df.index.isin(overlaps.index), True, False)"
   ]
  },
  {
   "cell_type": "code",
   "execution_count": 20,
   "metadata": {},
   "outputs": [],
   "source": [
    "from sklearn import metrics\n",
    "import matplotlib.pyplot as plt"
   ]
  },
  {
   "cell_type": "code",
   "execution_count": 21,
   "metadata": {},
   "outputs": [
    {
     "data": {
      "image/png": "[encoded data removed]",
      "text/plain": [
       "<Figure size 432x288 with 1 Axes>"
      ]
     },
     "metadata": {},
     "output_type": "display_data"
    }
   ],
   "source": [
    "fpr, tpr, thresholds = metrics.roc_curve(df.true_positive, df.confidence)\n",
    "roc_auc = metrics.auc(fpr, tpr)\n",
    "display = metrics.RocCurveDisplay(fpr=fpr, tpr=tpr, roc_auc=roc_auc, estimator_name='Pool detector')\n",
    "\n",
    "display.plot()\n",
    "plt.show()      "
   ]
  },
  {
   "cell_type": "code",
   "execution_count": 22,
   "metadata": {},
   "outputs": [
    {
     "data": {
      "text/plain": [
       "0.4655885100364685"
      ]
     },
     "execution_count": 22,
     "metadata": {},
     "output_type": "execute_result"
    }
   ],
   "source": [
    "thresholds[1]"
   ]
  },
  {
   "cell_type": "code",
   "execution_count": 23,
   "metadata": {},
   "outputs": [
    {
     "data": {
      "image/png": "[encoded data removed]",
      "text/plain": [
       "<Figure size 720x432 with 1 Axes>"
      ]
     },
     "metadata": {},
     "output_type": "display_data"
    }
   ],
   "source": [
    "f, ax = plt.subplots(figsize=(10, 6))\n",
    "sns.despine(f)\n",
    "ax.plot(fpr, tpr, '-', label=\"ROC curve (AUC={})\".format(round(roc_auc,2)))\n",
    "\n",
    "ax.annotate(np.round(thresholds[1],2), (fpr[1]+0.01, tpr[1]))\n",
    "ax.annotate(np.round(thresholds[-1],2), (fpr[-1]-0.04, tpr[-1]-0.08))\n",
    "\n",
    "threshold_of_interest_idx = np.argmax(tpr - fpr)\n",
    "threshold_of_interest = round(thresholds[threshold_of_interest_idx], 2)\n",
    "\n",
    "ax.plot(\n",
    "    fpr[threshold_of_interest_idx],\n",
    "    tpr[threshold_of_interest_idx],\n",
    "    \"o\",\n",
    "    c=\"tab:red\",\n",
    "    markersize=8,\n",
    "    label=f\"Optimal confidence threshold\"\n",
    ")\n",
    "\n",
    "ax.annotate(\n",
    "    threshold_of_interest,\n",
    "    (fpr[threshold_of_interest_idx]+0.007, tpr[threshold_of_interest_idx]-0.08)\n",
    ")\n",
    "\n",
    "ax.legend(loc=\"lower right\")\n",
    "ax.set_xlabel(\"False Positive Rate\")\n",
    "ax.set_ylabel(\"True Positive Rate\")\n",
    "\n",
    "plt.savefig(\"roc_curve.svg\", dpi=90, bbox_inches=\"tight\", format=\"svg\")"
   ]
  },
  {
   "cell_type": "code",
   "execution_count": 24,
   "metadata": {},
   "outputs": [
    {
     "data": {
      "text/plain": [
       "529"
      ]
     },
     "execution_count": 24,
     "metadata": {},
     "output_type": "execute_result"
    }
   ],
   "source": [
    "sum(df.true_positive)"
   ]
  },
  {
   "cell_type": "code",
   "execution_count": 25,
   "metadata": {},
   "outputs": [
    {
     "data": {
      "text/plain": [
       "589"
      ]
     },
     "execution_count": 25,
     "metadata": {},
     "output_type": "execute_result"
    }
   ],
   "source": [
    "truth.shape[0]"
   ]
  },
  {
   "cell_type": "code",
   "execution_count": 26,
   "metadata": {},
   "outputs": [
    {
     "data": {
      "text/plain": [
       "209"
      ]
     },
     "execution_count": 26,
     "metadata": {},
     "output_type": "execute_result"
    }
   ],
   "source": [
    "sum(df.false_positive)"
   ]
  },
  {
   "cell_type": "markdown",
   "metadata": {},
   "source": [
    "## Precision and recall with 0.1 confidence"
   ]
  },
  {
   "cell_type": "code",
   "execution_count": 28,
   "metadata": {},
   "outputs": [
    {
     "name": "stdout",
     "output_type": "stream",
     "text": [
      "precission:  0.7168021680216802\n"
     ]
    }
   ],
   "source": [
    "precission = sum(df.true_positive) / (len(df))\n",
    "print(\"precission: \", precission)"
   ]
  },
  {
   "cell_type": "code",
   "execution_count": null,
   "metadata": {},
   "outputs": [],
   "source": [
    "recall_score()"
   ]
  },
  {
   "cell_type": "code",
   "execution_count": 30,
   "metadata": {},
   "outputs": [
    {
     "name": "stdout",
     "output_type": "stream",
     "text": [
      "recall:  0.9027303754266212\n"
     ]
    }
   ],
   "source": [
    "recall = sum(df.true_positive) / (sum(df.true_positive) + len(misses))\n",
    "print(\"recall: \", recall)"
   ]
  },
  {
   "cell_type": "markdown",
   "metadata": {},
   "source": [
    "## Precision and recall with 0.2 confidence"
   ]
  },
  {
   "cell_type": "code",
   "execution_count": 21,
   "metadata": {},
   "outputs": [],
   "source": [
    "df_conf2 = df.loc[df.confidence >= 0.2]"
   ]
  },
  {
   "cell_type": "code",
   "execution_count": 22,
   "metadata": {},
   "outputs": [
    {
     "data": {
      "text/html": [
       "<div>\n",
       "<style scoped>\n",
       "    .dataframe tbody tr th:only-of-type {\n",
       "        vertical-align: middle;\n",
       "    }\n",
       "\n",
       "    .dataframe tbody tr th {\n",
       "        vertical-align: top;\n",
       "    }\n",
       "\n",
       "    .dataframe thead th {\n",
       "        text-align: right;\n",
       "    }\n",
       "</style>\n",
       "<table border=\"1\" class=\"dataframe\">\n",
       "  <thead>\n",
       "    <tr style=\"text-align: right;\">\n",
       "      <th></th>\n",
       "      <th>polyID</th>\n",
       "      <th>confidence</th>\n",
       "      <th>geometry</th>\n",
       "      <th>detect_status</th>\n",
       "      <th>true_positive</th>\n",
       "      <th>false_positive</th>\n",
       "    </tr>\n",
       "  </thead>\n",
       "  <tbody>\n",
       "    <tr>\n",
       "      <th>3</th>\n",
       "      <td>3</td>\n",
       "      <td>0.334212</td>\n",
       "      <td>POLYGON ((505096.351 4349217.633, 505096.351 4...</td>\n",
       "      <td>Hard Positives</td>\n",
       "      <td>True</td>\n",
       "      <td>False</td>\n",
       "    </tr>\n",
       "    <tr>\n",
       "      <th>8</th>\n",
       "      <td>8</td>\n",
       "      <td>0.288953</td>\n",
       "      <td>POLYGON ((506522.212 4350329.511, 506522.212 4...</td>\n",
       "      <td>Hard Positives</td>\n",
       "      <td>True</td>\n",
       "      <td>False</td>\n",
       "    </tr>\n",
       "    <tr>\n",
       "      <th>9</th>\n",
       "      <td>9</td>\n",
       "      <td>0.204643</td>\n",
       "      <td>POLYGON ((506581.518 4350385.065, 506581.518 4...</td>\n",
       "      <td>Hard Negative</td>\n",
       "      <td>False</td>\n",
       "      <td>True</td>\n",
       "    </tr>\n",
       "    <tr>\n",
       "      <th>11</th>\n",
       "      <td>11</td>\n",
       "      <td>0.253999</td>\n",
       "      <td>POLYGON ((506413.479 4350833.155, 506413.479 4...</td>\n",
       "      <td>Hard Positives</td>\n",
       "      <td>True</td>\n",
       "      <td>False</td>\n",
       "    </tr>\n",
       "    <tr>\n",
       "      <th>12</th>\n",
       "      <td>12</td>\n",
       "      <td>0.314654</td>\n",
       "      <td>POLYGON ((505616.948 4350927.309, 505616.948 4...</td>\n",
       "      <td>Hard Positives</td>\n",
       "      <td>True</td>\n",
       "      <td>False</td>\n",
       "    </tr>\n",
       "    <tr>\n",
       "      <th>...</th>\n",
       "      <td>...</td>\n",
       "      <td>...</td>\n",
       "      <td>...</td>\n",
       "      <td>...</td>\n",
       "      <td>...</td>\n",
       "      <td>...</td>\n",
       "    </tr>\n",
       "    <tr>\n",
       "      <th>730</th>\n",
       "      <td>730</td>\n",
       "      <td>0.238211</td>\n",
       "      <td>POLYGON ((503677.402 4353757.583, 503677.402 4...</td>\n",
       "      <td>Hard Positives</td>\n",
       "      <td>True</td>\n",
       "      <td>False</td>\n",
       "    </tr>\n",
       "    <tr>\n",
       "      <th>732</th>\n",
       "      <td>732</td>\n",
       "      <td>0.303656</td>\n",
       "      <td>POLYGON ((508361.406 4353756.988, 508361.406 4...</td>\n",
       "      <td>Hard Positives</td>\n",
       "      <td>True</td>\n",
       "      <td>False</td>\n",
       "    </tr>\n",
       "    <tr>\n",
       "      <th>733</th>\n",
       "      <td>733</td>\n",
       "      <td>0.264853</td>\n",
       "      <td>POLYGON ((512533.137 4353341.981, 512533.137 4...</td>\n",
       "      <td>Hard Positives</td>\n",
       "      <td>True</td>\n",
       "      <td>False</td>\n",
       "    </tr>\n",
       "    <tr>\n",
       "      <th>734</th>\n",
       "      <td>734</td>\n",
       "      <td>0.246031</td>\n",
       "      <td>POLYGON ((504370.950 4353352.838, 504370.950 4...</td>\n",
       "      <td>Hard Positives</td>\n",
       "      <td>True</td>\n",
       "      <td>False</td>\n",
       "    </tr>\n",
       "    <tr>\n",
       "      <th>737</th>\n",
       "      <td>737</td>\n",
       "      <td>0.282604</td>\n",
       "      <td>POLYGON ((508370.123 4352771.426, 508370.123 4...</td>\n",
       "      <td>Hard Positives</td>\n",
       "      <td>True</td>\n",
       "      <td>False</td>\n",
       "    </tr>\n",
       "  </tbody>\n",
       "</table>\n",
       "<p>456 rows × 6 columns</p>\n",
       "</div>"
      ],
      "text/plain": [
       "     polyID  confidence                                           geometry  \\\n",
       "3         3    0.334212  POLYGON ((505096.351 4349217.633, 505096.351 4...   \n",
       "8         8    0.288953  POLYGON ((506522.212 4350329.511, 506522.212 4...   \n",
       "9         9    0.204643  POLYGON ((506581.518 4350385.065, 506581.518 4...   \n",
       "11       11    0.253999  POLYGON ((506413.479 4350833.155, 506413.479 4...   \n",
       "12       12    0.314654  POLYGON ((505616.948 4350927.309, 505616.948 4...   \n",
       "..      ...         ...                                                ...   \n",
       "730     730    0.238211  POLYGON ((503677.402 4353757.583, 503677.402 4...   \n",
       "732     732    0.303656  POLYGON ((508361.406 4353756.988, 508361.406 4...   \n",
       "733     733    0.264853  POLYGON ((512533.137 4353341.981, 512533.137 4...   \n",
       "734     734    0.246031  POLYGON ((504370.950 4353352.838, 504370.950 4...   \n",
       "737     737    0.282604  POLYGON ((508370.123 4352771.426, 508370.123 4...   \n",
       "\n",
       "      detect_status  true_positive  false_positive  \n",
       "3    Hard Positives           True           False  \n",
       "8    Hard Positives           True           False  \n",
       "9     Hard Negative          False            True  \n",
       "11   Hard Positives           True           False  \n",
       "12   Hard Positives           True           False  \n",
       "..              ...            ...             ...  \n",
       "730  Hard Positives           True           False  \n",
       "732  Hard Positives           True           False  \n",
       "733  Hard Positives           True           False  \n",
       "734  Hard Positives           True           False  \n",
       "737  Hard Positives           True           False  \n",
       "\n",
       "[456 rows x 6 columns]"
      ]
     },
     "execution_count": 22,
     "metadata": {},
     "output_type": "execute_result"
    }
   ],
   "source": [
    "df_conf2"
   ]
  },
  {
   "cell_type": "code",
   "execution_count": 23,
   "metadata": {},
   "outputs": [
    {
     "data": {
      "text/plain": [
       "27"
      ]
     },
     "execution_count": 23,
     "metadata": {},
     "output_type": "execute_result"
    }
   ],
   "source": [
    "sum(df_conf2.false_positive)"
   ]
  },
  {
   "cell_type": "code",
   "execution_count": 24,
   "metadata": {},
   "outputs": [],
   "source": [
    "not_in_2 = gpd.sjoin(truth, df_conf2)\n",
    "misses_2 = truth.loc[~truth.index.isin(not_in_2.index)]"
   ]
  },
  {
   "cell_type": "code",
   "execution_count": 25,
   "metadata": {},
   "outputs": [
    {
     "data": {
      "text/plain": [
       "153"
      ]
     },
     "execution_count": 25,
     "metadata": {},
     "output_type": "execute_result"
    }
   ],
   "source": [
    "len(misses_2)"
   ]
  },
  {
   "cell_type": "code",
   "execution_count": 26,
   "metadata": {},
   "outputs": [],
   "source": [
    "misses_2.to_file(\"../results/test_results/misses.geojson\", driver='GeoJSON')"
   ]
  },
  {
   "cell_type": "code",
   "execution_count": 27,
   "metadata": {},
   "outputs": [
    {
     "name": "stdout",
     "output_type": "stream",
     "text": [
      "precission:  0.9407894736842105\n"
     ]
    }
   ],
   "source": [
    "precission2 = sum(df_conf2.true_positive) / (len(df_conf2))\n",
    "print(\"precission: \", precission2)"
   ]
  },
  {
   "cell_type": "code",
   "execution_count": 28,
   "metadata": {},
   "outputs": [
    {
     "name": "stdout",
     "output_type": "stream",
     "text": [
      "recall:  0.7371134020618557\n"
     ]
    }
   ],
   "source": [
    "recall = sum(df_conf2.true_positive) / (sum(df_conf2.true_positive) + len(misses_2))\n",
    "print(\"recall: \", recall)"
   ]
  },
  {
   "cell_type": "code",
   "execution_count": 30,
   "metadata": {},
   "outputs": [],
   "source": [
    "df_conf2[df_conf2.false_positive].to_file(\"../results/test_results/test_false_positive_gt20.geojson\", driver='GeoJSON')"
   ]
  },
  {
   "cell_type": "code",
   "execution_count": null,
   "metadata": {},
   "outputs": [],
   "source": []
  }
 ],
 "metadata": {
  "kernelspec": {
   "display_name": "Python 3",
   "language": "python",
   "name": "python3"
  },
  "language_info": {
   "codemirror_mode": {
    "name": "ipython",
    "version": 3
   },
   "file_extension": ".py",
   "mimetype": "text/x-python",
   "name": "python",
   "nbconvert_exporter": "python",
   "pygments_lexer": "ipython3",
   "version": "3.9.5"
  }
 },
 "nbformat": 4,
 "nbformat_minor": 4
}
