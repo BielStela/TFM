{
 "cells": [
  {
   "cell_type": "code",
   "execution_count": 1,
   "metadata": {
    "tags": []
   },
   "outputs": [],
   "source": [
    "import geopandas as gpd\n",
    "import numpy as np\n",
    "from shapely.geometry import Polygon, box\n",
    "import matplotlib.pyplot as plt"
   ]
  },
  {
   "cell_type": "code",
   "execution_count": 2,
   "metadata": {
    "collapsed": false,
    "jupyter": {
     "outputs_hidden": false
    },
    "pycharm": {
     "name": "#%%\n"
    }
   },
   "outputs": [],
   "source": [
    "df = gpd.read_file(\"../results/full_run/v1/first_run_all.geojson\")"
   ]
  },
  {
   "cell_type": "code",
   "execution_count": 6,
   "metadata": {},
   "outputs": [
    {
     "data": {
      "text/html": [
       "<div>\n",
       "<style scoped>\n",
       "    .dataframe tbody tr th:only-of-type {\n",
       "        vertical-align: middle;\n",
       "    }\n",
       "\n",
       "    .dataframe tbody tr th {\n",
       "        vertical-align: top;\n",
       "    }\n",
       "\n",
       "    .dataframe thead th {\n",
       "        text-align: right;\n",
       "    }\n",
       "</style>\n",
       "<table border=\"1\" class=\"dataframe\">\n",
       "  <thead>\n",
       "    <tr style=\"text-align: right;\">\n",
       "      <th></th>\n",
       "      <th>polyID</th>\n",
       "      <th>confidence</th>\n",
       "      <th>layer</th>\n",
       "      <th>path</th>\n",
       "      <th>geometry</th>\n",
       "    </tr>\n",
       "  </thead>\n",
       "  <tbody>\n",
       "    <tr>\n",
       "      <th>0</th>\n",
       "      <td>0</td>\n",
       "      <td>0.207167</td>\n",
       "      <td>PNOA_MA_OF_ETRS89_HU31_h50_0643</td>\n",
       "      <td>/home/biel/Desktop/test1/PNOA_MA_OF_ETRS89_HU3...</td>\n",
       "      <td>POLYGON ((482572.256 4409404.286, 482572.256 4...</td>\n",
       "    </tr>\n",
       "    <tr>\n",
       "      <th>1</th>\n",
       "      <td>1</td>\n",
       "      <td>0.226428</td>\n",
       "      <td>PNOA_MA_OF_ETRS89_HU31_h50_0643</td>\n",
       "      <td>/home/biel/Desktop/test1/PNOA_MA_OF_ETRS89_HU3...</td>\n",
       "      <td>POLYGON ((480603.767 4409617.461, 480603.767 4...</td>\n",
       "    </tr>\n",
       "    <tr>\n",
       "      <th>2</th>\n",
       "      <td>2</td>\n",
       "      <td>0.244639</td>\n",
       "      <td>PNOA_MA_OF_ETRS89_HU31_h50_0643</td>\n",
       "      <td>/home/biel/Desktop/test1/PNOA_MA_OF_ETRS89_HU3...</td>\n",
       "      <td>POLYGON ((480932.080 4409571.753, 480932.080 4...</td>\n",
       "    </tr>\n",
       "    <tr>\n",
       "      <th>3</th>\n",
       "      <td>3</td>\n",
       "      <td>0.185060</td>\n",
       "      <td>PNOA_MA_OF_ETRS89_HU31_h50_0643</td>\n",
       "      <td>/home/biel/Desktop/test1/PNOA_MA_OF_ETRS89_HU3...</td>\n",
       "      <td>POLYGON ((481270.650 4409578.236, 481270.650 4...</td>\n",
       "    </tr>\n",
       "    <tr>\n",
       "      <th>4</th>\n",
       "      <td>4</td>\n",
       "      <td>0.279460</td>\n",
       "      <td>PNOA_MA_OF_ETRS89_HU31_h50_0643</td>\n",
       "      <td>/home/biel/Desktop/test1/PNOA_MA_OF_ETRS89_HU3...</td>\n",
       "      <td>POLYGON ((480893.242 4409654.009, 480893.242 4...</td>\n",
       "    </tr>\n",
       "    <tr>\n",
       "      <th>...</th>\n",
       "      <td>...</td>\n",
       "      <td>...</td>\n",
       "      <td>...</td>\n",
       "      <td>...</td>\n",
       "      <td>...</td>\n",
       "    </tr>\n",
       "    <tr>\n",
       "      <th>68907</th>\n",
       "      <td>155</td>\n",
       "      <td>0.334238</td>\n",
       "      <td>PNOA_MA_OF_ETRS89_HU31_h50_0749</td>\n",
       "      <td>/home/biel/Desktop/test1/PNOA_MA_OF_ETRS89_HU3...</td>\n",
       "      <td>POLYGON ((512750.564 4353867.770, 512750.564 4...</td>\n",
       "    </tr>\n",
       "    <tr>\n",
       "      <th>68908</th>\n",
       "      <td>156</td>\n",
       "      <td>0.196058</td>\n",
       "      <td>PNOA_MA_OF_ETRS89_HU31_h50_0749</td>\n",
       "      <td>/home/biel/Desktop/test1/PNOA_MA_OF_ETRS89_HU3...</td>\n",
       "      <td>POLYGON ((514620.417 4353881.778, 514620.417 4...</td>\n",
       "    </tr>\n",
       "    <tr>\n",
       "      <th>68909</th>\n",
       "      <td>157</td>\n",
       "      <td>0.247538</td>\n",
       "      <td>PNOA_MA_OF_ETRS89_HU31_h50_0749</td>\n",
       "      <td>/home/biel/Desktop/test1/PNOA_MA_OF_ETRS89_HU3...</td>\n",
       "      <td>POLYGON ((514688.168 4353897.801, 514688.168 4...</td>\n",
       "    </tr>\n",
       "    <tr>\n",
       "      <th>68910</th>\n",
       "      <td>158</td>\n",
       "      <td>0.266268</td>\n",
       "      <td>PNOA_MA_OF_ETRS89_HU31_h50_0749</td>\n",
       "      <td>/home/biel/Desktop/test1/PNOA_MA_OF_ETRS89_HU3...</td>\n",
       "      <td>POLYGON ((512733.645 4353919.290, 512733.645 4...</td>\n",
       "    </tr>\n",
       "    <tr>\n",
       "      <th>68911</th>\n",
       "      <td>159</td>\n",
       "      <td>0.329227</td>\n",
       "      <td>PNOA_MA_OF_ETRS89_HU31_h50_0749</td>\n",
       "      <td>/home/biel/Desktop/test1/PNOA_MA_OF_ETRS89_HU3...</td>\n",
       "      <td>POLYGON ((512836.004 4353922.780, 512836.004 4...</td>\n",
       "    </tr>\n",
       "  </tbody>\n",
       "</table>\n",
       "<p>68912 rows × 5 columns</p>\n",
       "</div>"
      ],
      "text/plain": [
       "       polyID  confidence                            layer  \\\n",
       "0           0    0.207167  PNOA_MA_OF_ETRS89_HU31_h50_0643   \n",
       "1           1    0.226428  PNOA_MA_OF_ETRS89_HU31_h50_0643   \n",
       "2           2    0.244639  PNOA_MA_OF_ETRS89_HU31_h50_0643   \n",
       "3           3    0.185060  PNOA_MA_OF_ETRS89_HU31_h50_0643   \n",
       "4           4    0.279460  PNOA_MA_OF_ETRS89_HU31_h50_0643   \n",
       "...       ...         ...                              ...   \n",
       "68907     155    0.334238  PNOA_MA_OF_ETRS89_HU31_h50_0749   \n",
       "68908     156    0.196058  PNOA_MA_OF_ETRS89_HU31_h50_0749   \n",
       "68909     157    0.247538  PNOA_MA_OF_ETRS89_HU31_h50_0749   \n",
       "68910     158    0.266268  PNOA_MA_OF_ETRS89_HU31_h50_0749   \n",
       "68911     159    0.329227  PNOA_MA_OF_ETRS89_HU31_h50_0749   \n",
       "\n",
       "                                                    path  \\\n",
       "0      /home/biel/Desktop/test1/PNOA_MA_OF_ETRS89_HU3...   \n",
       "1      /home/biel/Desktop/test1/PNOA_MA_OF_ETRS89_HU3...   \n",
       "2      /home/biel/Desktop/test1/PNOA_MA_OF_ETRS89_HU3...   \n",
       "3      /home/biel/Desktop/test1/PNOA_MA_OF_ETRS89_HU3...   \n",
       "4      /home/biel/Desktop/test1/PNOA_MA_OF_ETRS89_HU3...   \n",
       "...                                                  ...   \n",
       "68907  /home/biel/Desktop/test1/PNOA_MA_OF_ETRS89_HU3...   \n",
       "68908  /home/biel/Desktop/test1/PNOA_MA_OF_ETRS89_HU3...   \n",
       "68909  /home/biel/Desktop/test1/PNOA_MA_OF_ETRS89_HU3...   \n",
       "68910  /home/biel/Desktop/test1/PNOA_MA_OF_ETRS89_HU3...   \n",
       "68911  /home/biel/Desktop/test1/PNOA_MA_OF_ETRS89_HU3...   \n",
       "\n",
       "                                                geometry  \n",
       "0      POLYGON ((482572.256 4409404.286, 482572.256 4...  \n",
       "1      POLYGON ((480603.767 4409617.461, 480603.767 4...  \n",
       "2      POLYGON ((480932.080 4409571.753, 480932.080 4...  \n",
       "3      POLYGON ((481270.650 4409578.236, 481270.650 4...  \n",
       "4      POLYGON ((480893.242 4409654.009, 480893.242 4...  \n",
       "...                                                  ...  \n",
       "68907  POLYGON ((512750.564 4353867.770, 512750.564 4...  \n",
       "68908  POLYGON ((514620.417 4353881.778, 514620.417 4...  \n",
       "68909  POLYGON ((514688.168 4353897.801, 514688.168 4...  \n",
       "68910  POLYGON ((512733.645 4353919.290, 512733.645 4...  \n",
       "68911  POLYGON ((512836.004 4353922.780, 512836.004 4...  \n",
       "\n",
       "[68912 rows x 5 columns]"
      ]
     },
     "execution_count": 6,
     "metadata": {},
     "output_type": "execute_result"
    }
   ],
   "source": [
    "df"
   ]
  },
  {
   "cell_type": "code",
   "execution_count": 10,
   "metadata": {},
   "outputs": [
    {
     "data": {
      "text/plain": [
       "55076"
      ]
     },
     "execution_count": 10,
     "metadata": {},
     "output_type": "execute_result"
    }
   ],
   "source": [
    "df = df.drop_duplicates(subset=[\"polyID\", \"geometry\"])\n",
    "df.shape[0]"
   ]
  },
  {
   "cell_type": "code",
   "execution_count": 11,
   "metadata": {},
   "outputs": [
    {
     "data": {
      "text/plain": [
       "(52375, 28)"
      ]
     },
     "execution_count": 11,
     "metadata": {},
     "output_type": "execute_result"
    }
   ],
   "source": [
    "truth = gpd.read_file(\"/media/biel/SharedHDD/Master/TFM/Cadastre/cadastre/bounding_boxes/bounding_boxes.shp\")\n",
    "truth.shape"
   ]
  },
  {
   "cell_type": "code",
   "execution_count": 12,
   "metadata": {},
   "outputs": [],
   "source": [
    "overlaps = gpd.sjoin(df, truth)"
   ]
  },
  {
   "cell_type": "code",
   "execution_count": 13,
   "metadata": {},
   "outputs": [
    {
     "data": {
      "image/png": "[encoded data removed]",
      "text/plain": [
       "<Figure size 432x288 with 1 Axes>"
      ]
     },
     "metadata": {
      "needs_background": "light"
     },
     "output_type": "display_data"
    }
   ],
   "source": [
    "hard_positive = df.loc[overlaps.index]\n",
    "hard_positive[\"confidence\"].hist(grid=False)\n",
    "plt.title(\"True positive confidence distribution\");"
   ]
  },
  {
   "cell_type": "code",
   "execution_count": 14,
   "metadata": {},
   "outputs": [
    {
     "data": {
      "image/png": "[encoded data removed]",
      "text/plain": [
       "<Figure size 432x288 with 1 Axes>"
      ]
     },
     "metadata": {
      "needs_background": "light"
     },
     "output_type": "display_data"
    }
   ],
   "source": [
    "hard_negative = df.loc[~df.index.isin(overlaps.index)]\n",
    "hard_negative[\"confidence\"].hist(grid=False)\n",
    "plt.title(\"False positive confidence distribution\");"
   ]
  },
  {
   "cell_type": "code",
   "execution_count": 15,
   "metadata": {},
   "outputs": [
    {
     "data": {
      "text/plain": [
       "42939"
      ]
     },
     "execution_count": 15,
     "metadata": {},
     "output_type": "execute_result"
    }
   ],
   "source": [
    "hard_positive.shape[0]"
   ]
  },
  {
   "cell_type": "code",
   "execution_count": 18,
   "metadata": {},
   "outputs": [
    {
     "data": {
      "text/plain": [
       "52375"
      ]
     },
     "execution_count": 18,
     "metadata": {},
     "output_type": "execute_result"
    }
   ],
   "source": [
    "truth.shape[0]"
   ]
  },
  {
   "cell_type": "markdown",
   "metadata": {},
   "source": [
    "## LLevar basses i estancs dels negatius"
   ]
  },
  {
   "cell_type": "code",
   "execution_count": 41,
   "metadata": {},
   "outputs": [],
   "source": [
    "basses = gpd.read_file(\"../data/basses.geojson\")"
   ]
  },
  {
   "cell_type": "code",
   "execution_count": 42,
   "metadata": {},
   "outputs": [],
   "source": [
    "negatives_basses = gpd.sjoin(hard_negative, basses)"
   ]
  },
  {
   "cell_type": "code",
   "execution_count": 43,
   "metadata": {},
   "outputs": [],
   "source": [
    "# remove detections that are known water structures\n",
    "hard_negative = hard_negative.loc[~hard_negative.index.isin(negatives_basses.index)]"
   ]
  },
  {
   "cell_type": "code",
   "execution_count": 44,
   "metadata": {},
   "outputs": [
    {
     "data": {
      "text/plain": [
       "10676"
      ]
     },
     "execution_count": 44,
     "metadata": {},
     "output_type": "execute_result"
    }
   ],
   "source": [
    "hard_negative.shape[0]"
   ]
  },
  {
   "cell_type": "code",
   "execution_count": 45,
   "metadata": {},
   "outputs": [],
   "source": [
    "hard_positive.to_file(\"../results/full_run/v1/hard_positive.geojson\", driver='GeoJSON')\n",
    "hard_negative.to_file(\"../results/full_run/v1/hard_negative.geojson\", driver='GeoJSON')"
   ]
  },
  {
   "cell_type": "code",
   "execution_count": 48,
   "metadata": {},
   "outputs": [],
   "source": [
    "hard_negative.loc[hard_negative.confidence > 0.20].to_file(\"../results/full_run/v1/hard_negative_gt_20.geojson\", driver='GeoJSON')"
   ]
  },
  {
   "cell_type": "code",
   "execution_count": null,
   "metadata": {},
   "outputs": [],
   "source": []
  },
  {
   "cell_type": "code",
   "execution_count": null,
   "metadata": {},
   "outputs": [],
   "source": []
  },
  {
   "cell_type": "code",
   "execution_count": null,
   "metadata": {},
   "outputs": [],
   "source": []
  },
  {
   "cell_type": "code",
   "execution_count": 94,
   "metadata": {},
   "outputs": [],
   "source": [
    "not_in = gpd.sjoin(truth, res_bbox)\n",
    "misses = truth.loc[~truth.index.isin(not_in.index)]"
   ]
  },
  {
   "cell_type": "code",
   "execution_count": 96,
   "metadata": {},
   "outputs": [],
   "source": [
    "misses.to_file(\"../results/misses.geojson\", driver='GeoJSON')"
   ]
  },
  {
   "cell_type": "markdown",
   "metadata": {},
   "source": [
    "## ROC curve"
   ]
  },
  {
   "cell_type": "code",
   "execution_count": 22,
   "metadata": {},
   "outputs": [],
   "source": [
    "df[\"true_positive\"] = np.where(df.index.isin(overlaps.index), True, False)\n",
    "df[\"false_positive\"] = np.where(~df.index.isin(overlaps.index), True, False)"
   ]
  },
  {
   "cell_type": "code",
   "execution_count": 23,
   "metadata": {},
   "outputs": [
    {
     "data": {
      "text/html": [
       "<div>\n",
       "<style scoped>\n",
       "    .dataframe tbody tr th:only-of-type {\n",
       "        vertical-align: middle;\n",
       "    }\n",
       "\n",
       "    .dataframe tbody tr th {\n",
       "        vertical-align: top;\n",
       "    }\n",
       "\n",
       "    .dataframe thead th {\n",
       "        text-align: right;\n",
       "    }\n",
       "</style>\n",
       "<table border=\"1\" class=\"dataframe\">\n",
       "  <thead>\n",
       "    <tr style=\"text-align: right;\">\n",
       "      <th></th>\n",
       "      <th>polyID</th>\n",
       "      <th>confidence</th>\n",
       "      <th>layer</th>\n",
       "      <th>path</th>\n",
       "      <th>geometry</th>\n",
       "      <th>true_positive</th>\n",
       "      <th>false_positive</th>\n",
       "    </tr>\n",
       "  </thead>\n",
       "  <tbody>\n",
       "    <tr>\n",
       "      <th>0</th>\n",
       "      <td>0</td>\n",
       "      <td>0.207167</td>\n",
       "      <td>PNOA_MA_OF_ETRS89_HU31_h50_0643</td>\n",
       "      <td>/home/biel/Desktop/test1/PNOA_MA_OF_ETRS89_HU3...</td>\n",
       "      <td>POLYGON ((482572.256 4409404.286, 482572.256 4...</td>\n",
       "      <td>False</td>\n",
       "      <td>True</td>\n",
       "    </tr>\n",
       "    <tr>\n",
       "      <th>1</th>\n",
       "      <td>1</td>\n",
       "      <td>0.226428</td>\n",
       "      <td>PNOA_MA_OF_ETRS89_HU31_h50_0643</td>\n",
       "      <td>/home/biel/Desktop/test1/PNOA_MA_OF_ETRS89_HU3...</td>\n",
       "      <td>POLYGON ((480603.767 4409617.461, 480603.767 4...</td>\n",
       "      <td>True</td>\n",
       "      <td>False</td>\n",
       "    </tr>\n",
       "    <tr>\n",
       "      <th>2</th>\n",
       "      <td>2</td>\n",
       "      <td>0.244639</td>\n",
       "      <td>PNOA_MA_OF_ETRS89_HU31_h50_0643</td>\n",
       "      <td>/home/biel/Desktop/test1/PNOA_MA_OF_ETRS89_HU3...</td>\n",
       "      <td>POLYGON ((480932.080 4409571.753, 480932.080 4...</td>\n",
       "      <td>True</td>\n",
       "      <td>False</td>\n",
       "    </tr>\n",
       "    <tr>\n",
       "      <th>3</th>\n",
       "      <td>3</td>\n",
       "      <td>0.185060</td>\n",
       "      <td>PNOA_MA_OF_ETRS89_HU31_h50_0643</td>\n",
       "      <td>/home/biel/Desktop/test1/PNOA_MA_OF_ETRS89_HU3...</td>\n",
       "      <td>POLYGON ((481270.650 4409578.236, 481270.650 4...</td>\n",
       "      <td>False</td>\n",
       "      <td>True</td>\n",
       "    </tr>\n",
       "    <tr>\n",
       "      <th>4</th>\n",
       "      <td>4</td>\n",
       "      <td>0.279460</td>\n",
       "      <td>PNOA_MA_OF_ETRS89_HU31_h50_0643</td>\n",
       "      <td>/home/biel/Desktop/test1/PNOA_MA_OF_ETRS89_HU3...</td>\n",
       "      <td>POLYGON ((480893.242 4409654.009, 480893.242 4...</td>\n",
       "      <td>True</td>\n",
       "      <td>False</td>\n",
       "    </tr>\n",
       "    <tr>\n",
       "      <th>...</th>\n",
       "      <td>...</td>\n",
       "      <td>...</td>\n",
       "      <td>...</td>\n",
       "      <td>...</td>\n",
       "      <td>...</td>\n",
       "      <td>...</td>\n",
       "      <td>...</td>\n",
       "    </tr>\n",
       "    <tr>\n",
       "      <th>68907</th>\n",
       "      <td>155</td>\n",
       "      <td>0.334238</td>\n",
       "      <td>PNOA_MA_OF_ETRS89_HU31_h50_0749</td>\n",
       "      <td>/home/biel/Desktop/test1/PNOA_MA_OF_ETRS89_HU3...</td>\n",
       "      <td>POLYGON ((512750.564 4353867.770, 512750.564 4...</td>\n",
       "      <td>True</td>\n",
       "      <td>False</td>\n",
       "    </tr>\n",
       "    <tr>\n",
       "      <th>68908</th>\n",
       "      <td>156</td>\n",
       "      <td>0.196058</td>\n",
       "      <td>PNOA_MA_OF_ETRS89_HU31_h50_0749</td>\n",
       "      <td>/home/biel/Desktop/test1/PNOA_MA_OF_ETRS89_HU3...</td>\n",
       "      <td>POLYGON ((514620.417 4353881.778, 514620.417 4...</td>\n",
       "      <td>False</td>\n",
       "      <td>True</td>\n",
       "    </tr>\n",
       "    <tr>\n",
       "      <th>68909</th>\n",
       "      <td>157</td>\n",
       "      <td>0.247538</td>\n",
       "      <td>PNOA_MA_OF_ETRS89_HU31_h50_0749</td>\n",
       "      <td>/home/biel/Desktop/test1/PNOA_MA_OF_ETRS89_HU3...</td>\n",
       "      <td>POLYGON ((514688.168 4353897.801, 514688.168 4...</td>\n",
       "      <td>True</td>\n",
       "      <td>False</td>\n",
       "    </tr>\n",
       "    <tr>\n",
       "      <th>68910</th>\n",
       "      <td>158</td>\n",
       "      <td>0.266268</td>\n",
       "      <td>PNOA_MA_OF_ETRS89_HU31_h50_0749</td>\n",
       "      <td>/home/biel/Desktop/test1/PNOA_MA_OF_ETRS89_HU3...</td>\n",
       "      <td>POLYGON ((512733.645 4353919.290, 512733.645 4...</td>\n",
       "      <td>True</td>\n",
       "      <td>False</td>\n",
       "    </tr>\n",
       "    <tr>\n",
       "      <th>68911</th>\n",
       "      <td>159</td>\n",
       "      <td>0.329227</td>\n",
       "      <td>PNOA_MA_OF_ETRS89_HU31_h50_0749</td>\n",
       "      <td>/home/biel/Desktop/test1/PNOA_MA_OF_ETRS89_HU3...</td>\n",
       "      <td>POLYGON ((512836.004 4353922.780, 512836.004 4...</td>\n",
       "      <td>False</td>\n",
       "      <td>True</td>\n",
       "    </tr>\n",
       "  </tbody>\n",
       "</table>\n",
       "<p>55076 rows × 7 columns</p>\n",
       "</div>"
      ],
      "text/plain": [
       "       polyID  confidence                            layer  \\\n",
       "0           0    0.207167  PNOA_MA_OF_ETRS89_HU31_h50_0643   \n",
       "1           1    0.226428  PNOA_MA_OF_ETRS89_HU31_h50_0643   \n",
       "2           2    0.244639  PNOA_MA_OF_ETRS89_HU31_h50_0643   \n",
       "3           3    0.185060  PNOA_MA_OF_ETRS89_HU31_h50_0643   \n",
       "4           4    0.279460  PNOA_MA_OF_ETRS89_HU31_h50_0643   \n",
       "...       ...         ...                              ...   \n",
       "68907     155    0.334238  PNOA_MA_OF_ETRS89_HU31_h50_0749   \n",
       "68908     156    0.196058  PNOA_MA_OF_ETRS89_HU31_h50_0749   \n",
       "68909     157    0.247538  PNOA_MA_OF_ETRS89_HU31_h50_0749   \n",
       "68910     158    0.266268  PNOA_MA_OF_ETRS89_HU31_h50_0749   \n",
       "68911     159    0.329227  PNOA_MA_OF_ETRS89_HU31_h50_0749   \n",
       "\n",
       "                                                    path  \\\n",
       "0      /home/biel/Desktop/test1/PNOA_MA_OF_ETRS89_HU3...   \n",
       "1      /home/biel/Desktop/test1/PNOA_MA_OF_ETRS89_HU3...   \n",
       "2      /home/biel/Desktop/test1/PNOA_MA_OF_ETRS89_HU3...   \n",
       "3      /home/biel/Desktop/test1/PNOA_MA_OF_ETRS89_HU3...   \n",
       "4      /home/biel/Desktop/test1/PNOA_MA_OF_ETRS89_HU3...   \n",
       "...                                                  ...   \n",
       "68907  /home/biel/Desktop/test1/PNOA_MA_OF_ETRS89_HU3...   \n",
       "68908  /home/biel/Desktop/test1/PNOA_MA_OF_ETRS89_HU3...   \n",
       "68909  /home/biel/Desktop/test1/PNOA_MA_OF_ETRS89_HU3...   \n",
       "68910  /home/biel/Desktop/test1/PNOA_MA_OF_ETRS89_HU3...   \n",
       "68911  /home/biel/Desktop/test1/PNOA_MA_OF_ETRS89_HU3...   \n",
       "\n",
       "                                                geometry  true_positive  \\\n",
       "0      POLYGON ((482572.256 4409404.286, 482572.256 4...          False   \n",
       "1      POLYGON ((480603.767 4409617.461, 480603.767 4...           True   \n",
       "2      POLYGON ((480932.080 4409571.753, 480932.080 4...           True   \n",
       "3      POLYGON ((481270.650 4409578.236, 481270.650 4...          False   \n",
       "4      POLYGON ((480893.242 4409654.009, 480893.242 4...           True   \n",
       "...                                                  ...            ...   \n",
       "68907  POLYGON ((512750.564 4353867.770, 512750.564 4...           True   \n",
       "68908  POLYGON ((514620.417 4353881.778, 514620.417 4...          False   \n",
       "68909  POLYGON ((514688.168 4353897.801, 514688.168 4...           True   \n",
       "68910  POLYGON ((512733.645 4353919.290, 512733.645 4...           True   \n",
       "68911  POLYGON ((512836.004 4353922.780, 512836.004 4...          False   \n",
       "\n",
       "       false_positive  \n",
       "0                True  \n",
       "1               False  \n",
       "2               False  \n",
       "3                True  \n",
       "4               False  \n",
       "...               ...  \n",
       "68907           False  \n",
       "68908            True  \n",
       "68909           False  \n",
       "68910           False  \n",
       "68911            True  \n",
       "\n",
       "[55076 rows x 7 columns]"
      ]
     },
     "execution_count": 23,
     "metadata": {},
     "output_type": "execute_result"
    }
   ],
   "source": [
    "df"
   ]
  },
  {
   "cell_type": "code",
   "execution_count": 24,
   "metadata": {},
   "outputs": [],
   "source": [
    "from sklearn import metrics\n",
    "import matplotlib.pyplot as plt"
   ]
  },
  {
   "cell_type": "code",
   "execution_count": 25,
   "metadata": {},
   "outputs": [
    {
     "data": {
      "image/png": "[encoded data removed]",
      "text/plain": [
       "<Figure size 432x288 with 1 Axes>"
      ]
     },
     "metadata": {
      "needs_background": "light"
     },
     "output_type": "display_data"
    }
   ],
   "source": [
    "fpr, tpr, thresholds = metrics.roc_curve(df.true_positive, df.confidence)\n",
    "roc_auc = metrics.auc(fpr, tpr)\n",
    "display = metrics.RocCurveDisplay(fpr=fpr, tpr=tpr, roc_auc=roc_auc, estimator_name='example estimator')\n",
    "display.plot()\n",
    "plt.show()      "
   ]
  },
  {
   "cell_type": "code",
   "execution_count": 26,
   "metadata": {},
   "outputs": [
    {
     "data": {
      "text/plain": [
       "0.7968687350835322"
      ]
     },
     "execution_count": 26,
     "metadata": {},
     "output_type": "execute_result"
    }
   ],
   "source": [
    "sum(df.true_positive) / truth.shape[0]"
   ]
  },
  {
   "cell_type": "code",
   "execution_count": 27,
   "metadata": {},
   "outputs": [
    {
     "data": {
      "text/plain": [
       "41736"
      ]
     },
     "execution_count": 27,
     "metadata": {},
     "output_type": "execute_result"
    }
   ],
   "source": [
    "sum(df.true_positive)"
   ]
  },
  {
   "cell_type": "code",
   "execution_count": 28,
   "metadata": {},
   "outputs": [
    {
     "data": {
      "text/plain": [
       "52375"
      ]
     },
     "execution_count": 28,
     "metadata": {},
     "output_type": "execute_result"
    }
   ],
   "source": [
    "truth.shape[0]"
   ]
  },
  {
   "cell_type": "code",
   "execution_count": 29,
   "metadata": {},
   "outputs": [
    {
     "data": {
      "text/plain": [
       "13340"
      ]
     },
     "execution_count": 29,
     "metadata": {},
     "output_type": "execute_result"
    }
   ],
   "source": [
    "sum(df.false_positive)"
   ]
  },
  {
   "cell_type": "code",
   "execution_count": null,
   "metadata": {},
   "outputs": [],
   "source": []
  }
 ],
 "metadata": {
  "kernelspec": {
   "display_name": "Python 3",
   "language": "python",
   "name": "python3"
  },
  "language_info": {
   "codemirror_mode": {
    "name": "ipython",
    "version": 3
   },
   "file_extension": ".py",
   "mimetype": "text/x-python",
   "name": "python",
   "nbconvert_exporter": "python",
   "pygments_lexer": "ipython3",
   "version": "3.9.5"
  }
 },
 "nbformat": 4,
 "nbformat_minor": 4
}
