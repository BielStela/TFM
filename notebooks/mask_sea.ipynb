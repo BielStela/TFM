{
 "cells": [
  {
   "cell_type": "code",
   "execution_count": 3,
   "id": "09e30024-1136-4f85-a0a6-44c19df39c71",
   "metadata": {},
   "outputs": [],
   "source": [
    "import rasterio \n",
    "from rasterio.mask import mask\n",
    "import fiona\n",
    "from rasterio.plot import show"
   ]
  },
  {
   "cell_type": "code",
   "execution_count": 4,
   "id": "4b846c2c-2391-4fdd-8a04-3b5233e53b3f",
   "metadata": {},
   "outputs": [],
   "source": [
    "with fiona.open(\"../data/coastline.shp\", \"r\") as shapefile:\n",
    "    shapes = [feature[\"geometry\"] for feature in shapefile]"
   ]
  },
  {
   "cell_type": "code",
   "execution_count": null,
   "id": "0f44bd05-e73e-4212-98cb-c1080ee9a85c",
   "metadata": {},
   "outputs": [],
   "source": [
    "with rasterio.open(\"/media/biel/SharedHDD/Master/TFM/ortos/tif/PNOA_MA_OF_ETRS89_HU31_h50_0643.ecw.tif\") as src:\n",
    "    out_image, out_transform = mask(src, shapes, crop=True)\n",
    "    out_meta = src.meta\n",
    "    show(out_image)"
   ]
  },
  {
   "cell_type": "code",
   "execution_count": null,
   "id": "0223ee60-ef13-4c30-a621-537793f8c5c9",
   "metadata": {},
   "outputs": [],
   "source": [
    "rasterio.windows.Window()"
   ]
  }
 ],
 "metadata": {
  "kernelspec": {
   "display_name": "Python 3",
   "language": "python",
   "name": "python3"
  },
  "language_info": {
   "codemirror_mode": {
    "name": "ipython",
    "version": 3
   },
   "file_extension": ".py",
   "mimetype": "text/x-python",
   "name": "python",
   "nbconvert_exporter": "python",
   "pygments_lexer": "ipython3",
   "version": "3.9.5"
  }
 },
 "nbformat": 4,
 "nbformat_minor": 5
}
