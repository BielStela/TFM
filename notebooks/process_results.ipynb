{
 "cells": [
  {
   "cell_type": "code",
   "execution_count": 1,
   "metadata": {
    "tags": []
   },
   "outputs": [],
   "source": [
    "import geopandas as gpd\n",
    "import numpy as np\n",
    "from shapely.geometry import Polygon, box"
   ]
  },
  {
   "cell_type": "code",
   "execution_count": 64,
   "metadata": {
    "collapsed": false,
    "jupyter": {
     "outputs_hidden": false
    },
    "pycharm": {
     "name": "#%%\n"
    }
   },
   "outputs": [],
   "source": [
    "df = gpd.read_file(\"../results/results/test_results_clean.geojson\")"
   ]
  },
  {
   "cell_type": "code",
   "execution_count": 65,
   "metadata": {},
   "outputs": [
    {
     "data": {
      "text/html": [
       "<div>\n",
       "<style scoped>\n",
       "    .dataframe tbody tr th:only-of-type {\n",
       "        vertical-align: middle;\n",
       "    }\n",
       "\n",
       "    .dataframe tbody tr th {\n",
       "        vertical-align: top;\n",
       "    }\n",
       "\n",
       "    .dataframe thead th {\n",
       "        text-align: right;\n",
       "    }\n",
       "</style>\n",
       "<table border=\"1\" class=\"dataframe\">\n",
       "  <thead>\n",
       "    <tr style=\"text-align: right;\">\n",
       "      <th></th>\n",
       "      <th>polyID</th>\n",
       "      <th>confidence</th>\n",
       "      <th>geometry</th>\n",
       "    </tr>\n",
       "  </thead>\n",
       "  <tbody>\n",
       "    <tr>\n",
       "      <th>0</th>\n",
       "      <td>0</td>\n",
       "      <td>0.141959</td>\n",
       "      <td>POLYGON ((504157.090 4346532.918, 504157.090 4...</td>\n",
       "    </tr>\n",
       "    <tr>\n",
       "      <th>1</th>\n",
       "      <td>1</td>\n",
       "      <td>0.111056</td>\n",
       "      <td>POLYGON ((502936.377 4348615.003, 502936.377 4...</td>\n",
       "    </tr>\n",
       "    <tr>\n",
       "      <th>2</th>\n",
       "      <td>2</td>\n",
       "      <td>0.149852</td>\n",
       "      <td>POLYGON ((503238.981 4349085.336, 503238.981 4...</td>\n",
       "    </tr>\n",
       "    <tr>\n",
       "      <th>3</th>\n",
       "      <td>3</td>\n",
       "      <td>0.334212</td>\n",
       "      <td>POLYGON ((505096.351 4349217.633, 505096.351 4...</td>\n",
       "    </tr>\n",
       "    <tr>\n",
       "      <th>4</th>\n",
       "      <td>4</td>\n",
       "      <td>0.122452</td>\n",
       "      <td>POLYGON ((503925.778 4349317.535, 503925.778 4...</td>\n",
       "    </tr>\n",
       "    <tr>\n",
       "      <th>...</th>\n",
       "      <td>...</td>\n",
       "      <td>...</td>\n",
       "      <td>...</td>\n",
       "    </tr>\n",
       "    <tr>\n",
       "      <th>733</th>\n",
       "      <td>733</td>\n",
       "      <td>0.264853</td>\n",
       "      <td>POLYGON ((512533.137 4353341.981, 512533.137 4...</td>\n",
       "    </tr>\n",
       "    <tr>\n",
       "      <th>734</th>\n",
       "      <td>734</td>\n",
       "      <td>0.246031</td>\n",
       "      <td>POLYGON ((504370.950 4353352.838, 504370.950 4...</td>\n",
       "    </tr>\n",
       "    <tr>\n",
       "      <th>735</th>\n",
       "      <td>735</td>\n",
       "      <td>0.149733</td>\n",
       "      <td>POLYGON ((498799.791 4352767.206, 498799.791 4...</td>\n",
       "    </tr>\n",
       "    <tr>\n",
       "      <th>736</th>\n",
       "      <td>736</td>\n",
       "      <td>0.130422</td>\n",
       "      <td>POLYGON ((500263.537 4352769.426, 500263.537 4...</td>\n",
       "    </tr>\n",
       "    <tr>\n",
       "      <th>737</th>\n",
       "      <td>737</td>\n",
       "      <td>0.282604</td>\n",
       "      <td>POLYGON ((508370.123 4352771.426, 508370.123 4...</td>\n",
       "    </tr>\n",
       "  </tbody>\n",
       "</table>\n",
       "<p>738 rows × 3 columns</p>\n",
       "</div>"
      ],
      "text/plain": [
       "     polyID  confidence                                           geometry\n",
       "0         0    0.141959  POLYGON ((504157.090 4346532.918, 504157.090 4...\n",
       "1         1    0.111056  POLYGON ((502936.377 4348615.003, 502936.377 4...\n",
       "2         2    0.149852  POLYGON ((503238.981 4349085.336, 503238.981 4...\n",
       "3         3    0.334212  POLYGON ((505096.351 4349217.633, 505096.351 4...\n",
       "4         4    0.122452  POLYGON ((503925.778 4349317.535, 503925.778 4...\n",
       "..      ...         ...                                                ...\n",
       "733     733    0.264853  POLYGON ((512533.137 4353341.981, 512533.137 4...\n",
       "734     734    0.246031  POLYGON ((504370.950 4353352.838, 504370.950 4...\n",
       "735     735    0.149733  POLYGON ((498799.791 4352767.206, 498799.791 4...\n",
       "736     736    0.130422  POLYGON ((500263.537 4352769.426, 500263.537 4...\n",
       "737     737    0.282604  POLYGON ((508370.123 4352771.426, 508370.123 4...\n",
       "\n",
       "[738 rows x 3 columns]"
      ]
     },
     "execution_count": 65,
     "metadata": {},
     "output_type": "execute_result"
    }
   ],
   "source": [
    "df"
   ]
  },
  {
   "cell_type": "code",
   "execution_count": 80,
   "metadata": {},
   "outputs": [
    {
     "data": {
      "text/plain": [
       "(589, 29)"
      ]
     },
     "execution_count": 80,
     "metadata": {},
     "output_type": "execute_result"
    }
   ],
   "source": [
    "truth = gpd.read_file(\"../data/test_bbox_rev.shp\")\n",
    "truth.shape"
   ]
  },
  {
   "cell_type": "code",
   "execution_count": 69,
   "metadata": {},
   "outputs": [],
   "source": [
    "overlaps = gpd.sjoin(df, truth)"
   ]
  },
  {
   "cell_type": "code",
   "execution_count": 81,
   "metadata": {},
   "outputs": [
    {
     "data": {
      "text/plain": [
       "<AxesSubplot:>"
      ]
     },
     "execution_count": 81,
     "metadata": {},
     "output_type": "execute_result"
    },
    {
     "data": {
      "image/png": "[encoded data removed]",
      "text/plain": [
       "<Figure size 432x288 with 1 Axes>"
      ]
     },
     "metadata": {
      "needs_background": "light"
     },
     "output_type": "display_data"
    }
   ],
   "source": [
    "hard_posotive = df.loc[overlaps.index]\n",
    "hard_posotive[\"confidence\"].hist()"
   ]
  },
  {
   "cell_type": "code",
   "execution_count": 82,
   "metadata": {},
   "outputs": [
    {
     "data": {
      "text/plain": [
       "<AxesSubplot:>"
      ]
     },
     "execution_count": 82,
     "metadata": {},
     "output_type": "execute_result"
    },
    {
     "data": {
      "image/png": "[encoded data removed]",
      "text/plain": [
       "<Figure size 432x288 with 1 Axes>"
      ]
     },
     "metadata": {
      "needs_background": "light"
     },
     "output_type": "display_data"
    }
   ],
   "source": [
    "hard_negative = df.loc[~df.index.isin(overlaps.index)]\n",
    "hard_negative[\"confidence\"].hist()"
   ]
  },
  {
   "cell_type": "code",
   "execution_count": 77,
   "metadata": {},
   "outputs": [],
   "source": [
    "hard_positive.to_file(\"../results/hard_posotive.geojson\", driver='GeoJSON')\n",
    "hard_negative.to_file(\"../results/hard_negative.geojson\", driver='GeoJSON')"
   ]
  },
  {
   "cell_type": "code",
   "execution_count": 83,
   "metadata": {},
   "outputs": [
    {
     "data": {
      "text/plain": [
       "589"
      ]
     },
     "execution_count": 83,
     "metadata": {},
     "output_type": "execute_result"
    }
   ],
   "source": [
    "truth.shape[0]"
   ]
  },
  {
   "cell_type": "code",
   "execution_count": 94,
   "metadata": {},
   "outputs": [],
   "source": [
    "not_in = gpd.sjoin(truth, res_bbox)\n",
    "misses = truth.loc[~truth.index.isin(not_in.index)]"
   ]
  },
  {
   "cell_type": "code",
   "execution_count": 96,
   "metadata": {},
   "outputs": [],
   "source": [
    "misses.to_file(\"../results/misses.geojson\", driver='GeoJSON')"
   ]
  },
  {
   "cell_type": "markdown",
   "metadata": {},
   "source": [
    "## ROC curve\n",
    "\n",
    "1. add col for true positive and false positive "
   ]
  },
  {
   "cell_type": "code",
   "execution_count": 106,
   "metadata": {},
   "outputs": [],
   "source": [
    "df[\"true_positive\"] = np.where(df.index.isin(overlaps.index), True, False)\n",
    "df[\"false_positive\"] = np.where(~df.index.isin(overlaps.index), True, False)"
   ]
  },
  {
   "cell_type": "code",
   "execution_count": 107,
   "metadata": {},
   "outputs": [
    {
     "data": {
      "text/html": [
       "<div>\n",
       "<style scoped>\n",
       "    .dataframe tbody tr th:only-of-type {\n",
       "        vertical-align: middle;\n",
       "    }\n",
       "\n",
       "    .dataframe tbody tr th {\n",
       "        vertical-align: top;\n",
       "    }\n",
       "\n",
       "    .dataframe thead th {\n",
       "        text-align: right;\n",
       "    }\n",
       "</style>\n",
       "<table border=\"1\" class=\"dataframe\">\n",
       "  <thead>\n",
       "    <tr style=\"text-align: right;\">\n",
       "      <th></th>\n",
       "      <th>polyID</th>\n",
       "      <th>confidence</th>\n",
       "      <th>geometry</th>\n",
       "      <th>true_positive</th>\n",
       "      <th>false_positive</th>\n",
       "    </tr>\n",
       "  </thead>\n",
       "  <tbody>\n",
       "    <tr>\n",
       "      <th>0</th>\n",
       "      <td>0</td>\n",
       "      <td>0.141959</td>\n",
       "      <td>POLYGON ((504157.090 4346532.918, 504157.090 4...</td>\n",
       "      <td>False</td>\n",
       "      <td>True</td>\n",
       "    </tr>\n",
       "    <tr>\n",
       "      <th>1</th>\n",
       "      <td>1</td>\n",
       "      <td>0.111056</td>\n",
       "      <td>POLYGON ((502936.377 4348615.003, 502936.377 4...</td>\n",
       "      <td>False</td>\n",
       "      <td>True</td>\n",
       "    </tr>\n",
       "    <tr>\n",
       "      <th>2</th>\n",
       "      <td>2</td>\n",
       "      <td>0.149852</td>\n",
       "      <td>POLYGON ((503238.981 4349085.336, 503238.981 4...</td>\n",
       "      <td>False</td>\n",
       "      <td>True</td>\n",
       "    </tr>\n",
       "    <tr>\n",
       "      <th>3</th>\n",
       "      <td>3</td>\n",
       "      <td>0.334212</td>\n",
       "      <td>POLYGON ((505096.351 4349217.633, 505096.351 4...</td>\n",
       "      <td>True</td>\n",
       "      <td>False</td>\n",
       "    </tr>\n",
       "    <tr>\n",
       "      <th>4</th>\n",
       "      <td>4</td>\n",
       "      <td>0.122452</td>\n",
       "      <td>POLYGON ((503925.778 4349317.535, 503925.778 4...</td>\n",
       "      <td>False</td>\n",
       "      <td>True</td>\n",
       "    </tr>\n",
       "    <tr>\n",
       "      <th>...</th>\n",
       "      <td>...</td>\n",
       "      <td>...</td>\n",
       "      <td>...</td>\n",
       "      <td>...</td>\n",
       "      <td>...</td>\n",
       "    </tr>\n",
       "    <tr>\n",
       "      <th>733</th>\n",
       "      <td>733</td>\n",
       "      <td>0.264853</td>\n",
       "      <td>POLYGON ((512533.137 4353341.981, 512533.137 4...</td>\n",
       "      <td>True</td>\n",
       "      <td>False</td>\n",
       "    </tr>\n",
       "    <tr>\n",
       "      <th>734</th>\n",
       "      <td>734</td>\n",
       "      <td>0.246031</td>\n",
       "      <td>POLYGON ((504370.950 4353352.838, 504370.950 4...</td>\n",
       "      <td>True</td>\n",
       "      <td>False</td>\n",
       "    </tr>\n",
       "    <tr>\n",
       "      <th>735</th>\n",
       "      <td>735</td>\n",
       "      <td>0.149733</td>\n",
       "      <td>POLYGON ((498799.791 4352767.206, 498799.791 4...</td>\n",
       "      <td>False</td>\n",
       "      <td>True</td>\n",
       "    </tr>\n",
       "    <tr>\n",
       "      <th>736</th>\n",
       "      <td>736</td>\n",
       "      <td>0.130422</td>\n",
       "      <td>POLYGON ((500263.537 4352769.426, 500263.537 4...</td>\n",
       "      <td>False</td>\n",
       "      <td>True</td>\n",
       "    </tr>\n",
       "    <tr>\n",
       "      <th>737</th>\n",
       "      <td>737</td>\n",
       "      <td>0.282604</td>\n",
       "      <td>POLYGON ((508370.123 4352771.426, 508370.123 4...</td>\n",
       "      <td>True</td>\n",
       "      <td>False</td>\n",
       "    </tr>\n",
       "  </tbody>\n",
       "</table>\n",
       "<p>738 rows × 5 columns</p>\n",
       "</div>"
      ],
      "text/plain": [
       "     polyID  confidence                                           geometry  \\\n",
       "0         0    0.141959  POLYGON ((504157.090 4346532.918, 504157.090 4...   \n",
       "1         1    0.111056  POLYGON ((502936.377 4348615.003, 502936.377 4...   \n",
       "2         2    0.149852  POLYGON ((503238.981 4349085.336, 503238.981 4...   \n",
       "3         3    0.334212  POLYGON ((505096.351 4349217.633, 505096.351 4...   \n",
       "4         4    0.122452  POLYGON ((503925.778 4349317.535, 503925.778 4...   \n",
       "..      ...         ...                                                ...   \n",
       "733     733    0.264853  POLYGON ((512533.137 4353341.981, 512533.137 4...   \n",
       "734     734    0.246031  POLYGON ((504370.950 4353352.838, 504370.950 4...   \n",
       "735     735    0.149733  POLYGON ((498799.791 4352767.206, 498799.791 4...   \n",
       "736     736    0.130422  POLYGON ((500263.537 4352769.426, 500263.537 4...   \n",
       "737     737    0.282604  POLYGON ((508370.123 4352771.426, 508370.123 4...   \n",
       "\n",
       "     true_positive  false_positive  \n",
       "0            False            True  \n",
       "1            False            True  \n",
       "2            False            True  \n",
       "3             True           False  \n",
       "4            False            True  \n",
       "..             ...             ...  \n",
       "733           True           False  \n",
       "734           True           False  \n",
       "735          False            True  \n",
       "736          False            True  \n",
       "737           True           False  \n",
       "\n",
       "[738 rows x 5 columns]"
      ]
     },
     "execution_count": 107,
     "metadata": {},
     "output_type": "execute_result"
    }
   ],
   "source": [
    "df"
   ]
  },
  {
   "cell_type": "code",
   "execution_count": 112,
   "metadata": {},
   "outputs": [],
   "source": [
    "from sklearn import metrics\n",
    "import matplotlib.pyplot as plt"
   ]
  },
  {
   "cell_type": "code",
   "execution_count": 113,
   "metadata": {},
   "outputs": [
    {
     "data": {
      "image/png": "[encoded data removed]",
      "text/plain": [
       "<Figure size 432x288 with 1 Axes>"
      ]
     },
     "metadata": {
      "needs_background": "light"
     },
     "output_type": "display_data"
    }
   ],
   "source": [
    "fpr, tpr, thresholds = metrics.roc_curve(df.true_positive, df.confidence)\n",
    "roc_auc = metrics.auc(fpr, tpr)\n",
    "display = metrics.RocCurveDisplay(fpr=fpr, tpr=tpr, roc_auc=roc_auc, estimator_name='example estimator')\n",
    "display.plot()\n",
    "plt.show()      "
   ]
  }
 ],
 "metadata": {
  "kernelspec": {
   "display_name": "Python 3",
   "language": "python",
   "name": "python3"
  },
  "language_info": {
   "codemirror_mode": {
    "name": "ipython",
    "version": 3
   },
   "file_extension": ".py",
   "mimetype": "text/x-python",
   "name": "python",
   "nbconvert_exporter": "python",
   "pygments_lexer": "ipython3",
   "version": "3.9.5"
  }
 },
 "nbformat": 4,
 "nbformat_minor": 4
}
